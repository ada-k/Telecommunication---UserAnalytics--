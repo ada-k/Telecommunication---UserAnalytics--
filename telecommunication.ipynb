{
 "cells": [
  {
   "cell_type": "markdown",
   "metadata": {},
   "source": []
  },
  {
   "cell_type": "markdown",
   "metadata": {},
   "source": [
    "### Table of Contents\n",
    "* [Libraries](#Libraries)\n",
    "* [Dataset](#Dataset)\n",
    "* [Null Values](#Null-Values)\n",
    "* [Preprocessing](#PreProcessing)\n",
    "* [1. User Overiew Analysis](#1.-User-Overiew-Analysis)\n",
    "    * [User Aggregates](#Aggregate-per-user-the-following-information-in-the-column:)\n",
    "    * [Non-Graphical Univariate Analysis](#Non-Graphical-Univariate-Analysis)\n",
    "    * [Graphical Univariate Analysis.](#Graphical-Univariate-Analysis.)\n",
    "    * [Bivariate Analysis](#Bivariate-Analysis)\n",
    "    * [Variable Transformation](#Variable-transformations)\n",
    "    * [Correlation Analysis](#Correlation-Analysis)\n",
    "    * [Dimensionality Reduction](#Dimensionality-Reduction)"
   ]
  },
  {
   "cell_type": "markdown",
   "metadata": {},
   "source": [
    "## Libraries"
   ]
  },
  {
   "cell_type": "code",
   "execution_count": 1,
   "metadata": {},
   "outputs": [
    {
     "name": "stdout",
     "output_type": "stream",
     "text": [
      "/kaggle/input/Week2_challenge_data_source.xlsx\n"
     ]
    }
   ],
   "source": [
    "import pandas as pd\n",
    "import numpy as np\n",
    "import seaborn as sns\n",
    "import matplotlib.pyplot as plt\n",
    "from sklearn.impute import SimpleImputer\n",
    "from sklearn.decomposition import PCA\n",
    "from sklearn.preprocessing import OneHotEncoder, LabelEncoder\n",
    "from scipy import stats\n",
    "from scipy.stats import skew, norm\n",
    "from scipy.special import boxcox1p\n",
    "from scipy.stats import boxcox_normmax\n",
    "\n",
    "\n",
    "import warnings\n",
    "warnings.filterwarnings(action=\"ignore\")\n",
    "\n",
    "import os\n",
    "for dirname, _, filenames in os.walk('/kaggle/input'):\n",
    "    for filename in filenames:\n",
    "        print(os.path.join(dirname, filename))\n"
   ]
  },
  {
   "cell_type": "markdown",
   "metadata": {},
   "source": [
    "## Dataset"
   ]
  },
  {
   "cell_type": "code",
   "execution_count": 2,
   "metadata": {},
   "outputs": [
    {
     "data": {
      "text/html": [
       "<div>\n",
       "<style scoped>\n",
       "    .dataframe tbody tr th:only-of-type {\n",
       "        vertical-align: middle;\n",
       "    }\n",
       "\n",
       "    .dataframe tbody tr th {\n",
       "        vertical-align: top;\n",
       "    }\n",
       "\n",
       "    .dataframe thead th {\n",
       "        text-align: right;\n",
       "    }\n",
       "</style>\n",
       "<table border=\"1\" class=\"dataframe\">\n",
       "  <thead>\n",
       "    <tr style=\"text-align: right;\">\n",
       "      <th></th>\n",
       "      <th>Bearer Id</th>\n",
       "      <th>Start</th>\n",
       "      <th>Start ms</th>\n",
       "      <th>End</th>\n",
       "      <th>End ms</th>\n",
       "      <th>Dur. (ms)</th>\n",
       "      <th>IMSI</th>\n",
       "      <th>MSISDN/Number</th>\n",
       "      <th>IMEI</th>\n",
       "      <th>Last Location Name</th>\n",
       "      <th>...</th>\n",
       "      <th>Youtube DL (Bytes)</th>\n",
       "      <th>Youtube UL (Bytes)</th>\n",
       "      <th>Netflix DL (Bytes)</th>\n",
       "      <th>Netflix UL (Bytes)</th>\n",
       "      <th>Gaming DL (Bytes)</th>\n",
       "      <th>Gaming UL (Bytes)</th>\n",
       "      <th>Other DL (Bytes)</th>\n",
       "      <th>Other UL (Bytes)</th>\n",
       "      <th>Total UL (Bytes)</th>\n",
       "      <th>Total DL (Bytes)</th>\n",
       "    </tr>\n",
       "  </thead>\n",
       "  <tbody>\n",
       "    <tr>\n",
       "      <th>0</th>\n",
       "      <td>13114483460844900352</td>\n",
       "      <td>2019-04-04 12:01:18</td>\n",
       "      <td>770.0</td>\n",
       "      <td>2019-04-25 14:35:31</td>\n",
       "      <td>662.0</td>\n",
       "      <td>1823652.0</td>\n",
       "      <td>2.082014e+14</td>\n",
       "      <td>3.366496e+10</td>\n",
       "      <td>3.552121e+13</td>\n",
       "      <td>9164566995485190</td>\n",
       "      <td>...</td>\n",
       "      <td>15854611.0</td>\n",
       "      <td>2501332.0</td>\n",
       "      <td>8198936.0</td>\n",
       "      <td>9656251.0</td>\n",
       "      <td>278082303.0</td>\n",
       "      <td>14344150.0</td>\n",
       "      <td>171744450.0</td>\n",
       "      <td>8814393.0</td>\n",
       "      <td>36749741.0</td>\n",
       "      <td>308879636.0</td>\n",
       "    </tr>\n",
       "    <tr>\n",
       "      <th>1</th>\n",
       "      <td>13114483482878900224</td>\n",
       "      <td>2019-04-09 13:04:04</td>\n",
       "      <td>235.0</td>\n",
       "      <td>2019-04-25 08:15:48</td>\n",
       "      <td>606.0</td>\n",
       "      <td>1365104.0</td>\n",
       "      <td>2.082019e+14</td>\n",
       "      <td>3.368185e+10</td>\n",
       "      <td>3.579401e+13</td>\n",
       "      <td>L77566A</td>\n",
       "      <td>...</td>\n",
       "      <td>20247395.0</td>\n",
       "      <td>19111729.0</td>\n",
       "      <td>18338413.0</td>\n",
       "      <td>17227132.0</td>\n",
       "      <td>608750074.0</td>\n",
       "      <td>1170709.0</td>\n",
       "      <td>526904238.0</td>\n",
       "      <td>15055145.0</td>\n",
       "      <td>53800391.0</td>\n",
       "      <td>653384965.0</td>\n",
       "    </tr>\n",
       "    <tr>\n",
       "      <th>2</th>\n",
       "      <td>13114483484080500736</td>\n",
       "      <td>2019-04-09 17:42:11</td>\n",
       "      <td>1.0</td>\n",
       "      <td>2019-04-25 11:58:13</td>\n",
       "      <td>652.0</td>\n",
       "      <td>1361762.0</td>\n",
       "      <td>2.082003e+14</td>\n",
       "      <td>3.376063e+10</td>\n",
       "      <td>3.528151e+13</td>\n",
       "      <td>D42335A</td>\n",
       "      <td>...</td>\n",
       "      <td>19725661.0</td>\n",
       "      <td>14699576.0</td>\n",
       "      <td>17587794.0</td>\n",
       "      <td>6163408.0</td>\n",
       "      <td>229584621.0</td>\n",
       "      <td>395630.0</td>\n",
       "      <td>410692588.0</td>\n",
       "      <td>4215763.0</td>\n",
       "      <td>27883638.0</td>\n",
       "      <td>279807335.0</td>\n",
       "    </tr>\n",
       "    <tr>\n",
       "      <th>3</th>\n",
       "      <td>13114483485442799616</td>\n",
       "      <td>2019-04-10 00:31:25</td>\n",
       "      <td>486.0</td>\n",
       "      <td>2019-04-25 07:36:35</td>\n",
       "      <td>171.0</td>\n",
       "      <td>1321509.0</td>\n",
       "      <td>2.082014e+14</td>\n",
       "      <td>3.375034e+10</td>\n",
       "      <td>3.535661e+13</td>\n",
       "      <td>T21824A</td>\n",
       "      <td>...</td>\n",
       "      <td>21388122.0</td>\n",
       "      <td>15146643.0</td>\n",
       "      <td>13994646.0</td>\n",
       "      <td>1097942.0</td>\n",
       "      <td>799538153.0</td>\n",
       "      <td>10849722.0</td>\n",
       "      <td>749039933.0</td>\n",
       "      <td>12797283.0</td>\n",
       "      <td>43324218.0</td>\n",
       "      <td>846028530.0</td>\n",
       "    </tr>\n",
       "    <tr>\n",
       "      <th>4</th>\n",
       "      <td>13114483499480700928</td>\n",
       "      <td>2019-04-12 20:10:23</td>\n",
       "      <td>565.0</td>\n",
       "      <td>2019-04-25 10:40:32</td>\n",
       "      <td>954.0</td>\n",
       "      <td>1089009.0</td>\n",
       "      <td>2.082014e+14</td>\n",
       "      <td>3.369980e+10</td>\n",
       "      <td>3.540701e+13</td>\n",
       "      <td>D88865A</td>\n",
       "      <td>...</td>\n",
       "      <td>15259380.0</td>\n",
       "      <td>18962873.0</td>\n",
       "      <td>17124581.0</td>\n",
       "      <td>415218.0</td>\n",
       "      <td>527707248.0</td>\n",
       "      <td>3529801.0</td>\n",
       "      <td>550709500.0</td>\n",
       "      <td>13910322.0</td>\n",
       "      <td>38542814.0</td>\n",
       "      <td>569138589.0</td>\n",
       "    </tr>\n",
       "  </tbody>\n",
       "</table>\n",
       "<p>5 rows × 55 columns</p>\n",
       "</div>"
      ],
      "text/plain": [
       "              Bearer Id               Start  Start ms                 End  \\\n",
       "0  13114483460844900352 2019-04-04 12:01:18     770.0 2019-04-25 14:35:31   \n",
       "1  13114483482878900224 2019-04-09 13:04:04     235.0 2019-04-25 08:15:48   \n",
       "2  13114483484080500736 2019-04-09 17:42:11       1.0 2019-04-25 11:58:13   \n",
       "3  13114483485442799616 2019-04-10 00:31:25     486.0 2019-04-25 07:36:35   \n",
       "4  13114483499480700928 2019-04-12 20:10:23     565.0 2019-04-25 10:40:32   \n",
       "\n",
       "   End ms  Dur. (ms)          IMSI  MSISDN/Number          IMEI  \\\n",
       "0   662.0  1823652.0  2.082014e+14   3.366496e+10  3.552121e+13   \n",
       "1   606.0  1365104.0  2.082019e+14   3.368185e+10  3.579401e+13   \n",
       "2   652.0  1361762.0  2.082003e+14   3.376063e+10  3.528151e+13   \n",
       "3   171.0  1321509.0  2.082014e+14   3.375034e+10  3.535661e+13   \n",
       "4   954.0  1089009.0  2.082014e+14   3.369980e+10  3.540701e+13   \n",
       "\n",
       "  Last Location Name  ...  Youtube DL (Bytes)  Youtube UL (Bytes)  \\\n",
       "0   9164566995485190  ...          15854611.0           2501332.0   \n",
       "1            L77566A  ...          20247395.0          19111729.0   \n",
       "2            D42335A  ...          19725661.0          14699576.0   \n",
       "3            T21824A  ...          21388122.0          15146643.0   \n",
       "4            D88865A  ...          15259380.0          18962873.0   \n",
       "\n",
       "   Netflix DL (Bytes)  Netflix UL (Bytes)  Gaming DL (Bytes)  \\\n",
       "0           8198936.0           9656251.0        278082303.0   \n",
       "1          18338413.0          17227132.0        608750074.0   \n",
       "2          17587794.0           6163408.0        229584621.0   \n",
       "3          13994646.0           1097942.0        799538153.0   \n",
       "4          17124581.0            415218.0        527707248.0   \n",
       "\n",
       "   Gaming UL (Bytes)  Other DL (Bytes)  Other UL (Bytes)  Total UL (Bytes)  \\\n",
       "0         14344150.0       171744450.0         8814393.0        36749741.0   \n",
       "1          1170709.0       526904238.0        15055145.0        53800391.0   \n",
       "2           395630.0       410692588.0         4215763.0        27883638.0   \n",
       "3         10849722.0       749039933.0        12797283.0        43324218.0   \n",
       "4          3529801.0       550709500.0        13910322.0        38542814.0   \n",
       "\n",
       "   Total DL (Bytes)  \n",
       "0       308879636.0  \n",
       "1       653384965.0  \n",
       "2       279807335.0  \n",
       "3       846028530.0  \n",
       "4       569138589.0  \n",
       "\n",
       "[5 rows x 55 columns]"
      ]
     },
     "execution_count": 2,
     "metadata": {},
     "output_type": "execute_result"
    }
   ],
   "source": [
    "raw = pd.read_excel('/kaggle/input/Week2_challenge_data_source.xlsx')\n",
    "raw.head()"
   ]
  },
  {
   "cell_type": "code",
   "execution_count": 3,
   "metadata": {},
   "outputs": [
    {
     "data": {
      "text/plain": [
       "(150001, 55)"
      ]
     },
     "execution_count": 3,
     "metadata": {},
     "output_type": "execute_result"
    }
   ],
   "source": [
    "raw.shape"
   ]
  },
  {
   "cell_type": "markdown",
   "metadata": {},
   "source": [
    "Quite a bulk dataset."
   ]
  },
  {
   "cell_type": "markdown",
   "metadata": {},
   "source": [
    "## PreProcessing"
   ]
  },
  {
   "cell_type": "markdown",
   "metadata": {},
   "source": [
    "### Numerical, Categorical and TimeStamp features"
   ]
  },
  {
   "cell_type": "code",
   "execution_count": 4,
   "metadata": {},
   "outputs": [
    {
     "data": {
      "text/html": [
       "<div>\n",
       "<style scoped>\n",
       "    .dataframe tbody tr th:only-of-type {\n",
       "        vertical-align: middle;\n",
       "    }\n",
       "\n",
       "    .dataframe tbody tr th {\n",
       "        vertical-align: top;\n",
       "    }\n",
       "\n",
       "    .dataframe thead th {\n",
       "        text-align: right;\n",
       "    }\n",
       "</style>\n",
       "<table border=\"1\" class=\"dataframe\">\n",
       "  <thead>\n",
       "    <tr style=\"text-align: right;\">\n",
       "      <th></th>\n",
       "      <th>Start ms</th>\n",
       "      <th>End ms</th>\n",
       "      <th>Dur. (ms)</th>\n",
       "      <th>IMSI</th>\n",
       "      <th>MSISDN/Number</th>\n",
       "      <th>IMEI</th>\n",
       "      <th>Avg RTT DL (ms)</th>\n",
       "      <th>Avg RTT UL (ms)</th>\n",
       "      <th>Avg Bearer TP DL (kbps)</th>\n",
       "      <th>Avg Bearer TP UL (kbps)</th>\n",
       "      <th>...</th>\n",
       "      <th>Other DL (Bytes)</th>\n",
       "      <th>Other UL (Bytes)</th>\n",
       "      <th>Total UL (Bytes)</th>\n",
       "      <th>Total DL (Bytes)</th>\n",
       "      <th>Bearer Id</th>\n",
       "      <th>Last Location Name</th>\n",
       "      <th>Handset Manufacturer</th>\n",
       "      <th>Handset Type</th>\n",
       "      <th>Start</th>\n",
       "      <th>End</th>\n",
       "    </tr>\n",
       "  </thead>\n",
       "  <tbody>\n",
       "    <tr>\n",
       "      <th>0</th>\n",
       "      <td>770.0</td>\n",
       "      <td>662.0</td>\n",
       "      <td>1823652.0</td>\n",
       "      <td>2.082014e+14</td>\n",
       "      <td>3.366496e+10</td>\n",
       "      <td>3.552121e+13</td>\n",
       "      <td>42.0</td>\n",
       "      <td>5.0</td>\n",
       "      <td>23.0</td>\n",
       "      <td>44.0</td>\n",
       "      <td>...</td>\n",
       "      <td>171744450.0</td>\n",
       "      <td>8814393.0</td>\n",
       "      <td>36749741.0</td>\n",
       "      <td>308879636.0</td>\n",
       "      <td>13114483460844900352</td>\n",
       "      <td>9164566995485190</td>\n",
       "      <td>Samsung</td>\n",
       "      <td>Samsung Galaxy A5 Sm-A520F</td>\n",
       "      <td>2019-04-04 12:01:18</td>\n",
       "      <td>2019-04-25 14:35:31</td>\n",
       "    </tr>\n",
       "    <tr>\n",
       "      <th>1</th>\n",
       "      <td>235.0</td>\n",
       "      <td>606.0</td>\n",
       "      <td>1365104.0</td>\n",
       "      <td>2.082019e+14</td>\n",
       "      <td>3.368185e+10</td>\n",
       "      <td>3.579401e+13</td>\n",
       "      <td>65.0</td>\n",
       "      <td>5.0</td>\n",
       "      <td>16.0</td>\n",
       "      <td>26.0</td>\n",
       "      <td>...</td>\n",
       "      <td>526904238.0</td>\n",
       "      <td>15055145.0</td>\n",
       "      <td>53800391.0</td>\n",
       "      <td>653384965.0</td>\n",
       "      <td>13114483482878900224</td>\n",
       "      <td>L77566A</td>\n",
       "      <td>Samsung</td>\n",
       "      <td>Samsung Galaxy J5 (Sm-J530)</td>\n",
       "      <td>2019-04-09 13:04:04</td>\n",
       "      <td>2019-04-25 08:15:48</td>\n",
       "    </tr>\n",
       "    <tr>\n",
       "      <th>2</th>\n",
       "      <td>1.0</td>\n",
       "      <td>652.0</td>\n",
       "      <td>1361762.0</td>\n",
       "      <td>2.082003e+14</td>\n",
       "      <td>3.376063e+10</td>\n",
       "      <td>3.528151e+13</td>\n",
       "      <td>NaN</td>\n",
       "      <td>NaN</td>\n",
       "      <td>6.0</td>\n",
       "      <td>9.0</td>\n",
       "      <td>...</td>\n",
       "      <td>410692588.0</td>\n",
       "      <td>4215763.0</td>\n",
       "      <td>27883638.0</td>\n",
       "      <td>279807335.0</td>\n",
       "      <td>13114483484080500736</td>\n",
       "      <td>D42335A</td>\n",
       "      <td>Samsung</td>\n",
       "      <td>Samsung Galaxy A8 (2018)</td>\n",
       "      <td>2019-04-09 17:42:11</td>\n",
       "      <td>2019-04-25 11:58:13</td>\n",
       "    </tr>\n",
       "  </tbody>\n",
       "</table>\n",
       "<p>3 rows × 55 columns</p>\n",
       "</div>"
      ],
      "text/plain": [
       "   Start ms  End ms  Dur. (ms)          IMSI  MSISDN/Number          IMEI  \\\n",
       "0     770.0   662.0  1823652.0  2.082014e+14   3.366496e+10  3.552121e+13   \n",
       "1     235.0   606.0  1365104.0  2.082019e+14   3.368185e+10  3.579401e+13   \n",
       "2       1.0   652.0  1361762.0  2.082003e+14   3.376063e+10  3.528151e+13   \n",
       "\n",
       "   Avg RTT DL (ms)  Avg RTT UL (ms)  Avg Bearer TP DL (kbps)  \\\n",
       "0             42.0              5.0                     23.0   \n",
       "1             65.0              5.0                     16.0   \n",
       "2              NaN              NaN                      6.0   \n",
       "\n",
       "   Avg Bearer TP UL (kbps)  ...  Other DL (Bytes)  Other UL (Bytes)  \\\n",
       "0                     44.0  ...       171744450.0         8814393.0   \n",
       "1                     26.0  ...       526904238.0        15055145.0   \n",
       "2                      9.0  ...       410692588.0         4215763.0   \n",
       "\n",
       "   Total UL (Bytes)  Total DL (Bytes)             Bearer Id  \\\n",
       "0        36749741.0       308879636.0  13114483460844900352   \n",
       "1        53800391.0       653384965.0  13114483482878900224   \n",
       "2        27883638.0       279807335.0  13114483484080500736   \n",
       "\n",
       "   Last Location Name  Handset Manufacturer                 Handset Type  \\\n",
       "0    9164566995485190               Samsung   Samsung Galaxy A5 Sm-A520F   \n",
       "1             L77566A               Samsung  Samsung Galaxy J5 (Sm-J530)   \n",
       "2             D42335A               Samsung     Samsung Galaxy A8 (2018)   \n",
       "\n",
       "                Start                 End  \n",
       "0 2019-04-04 12:01:18 2019-04-25 14:35:31  \n",
       "1 2019-04-09 13:04:04 2019-04-25 08:15:48  \n",
       "2 2019-04-09 17:42:11 2019-04-25 11:58:13  \n",
       "\n",
       "[3 rows x 55 columns]"
      ]
     },
     "execution_count": 4,
     "metadata": {},
     "output_type": "execute_result"
    }
   ],
   "source": [
    "numerical = []\n",
    "categorical = []\n",
    "timestamps = []\n",
    "\n",
    "for col in raw.columns:\n",
    "    if raw[col].dtype in ['int16', 'int32', 'int64', 'float16', 'float32', 'float64']:\n",
    "        numerical.append(col)\n",
    "    elif raw[col].dtype == object:\n",
    "        categorical.append(col)\n",
    "    else:\n",
    "        timestamps.append(col)\n",
    "        \n",
    "        \n",
    "features = numerical+categorical+timestamps\n",
    "data = raw[features]\n",
    "data.head(3)"
   ]
  },
  {
   "cell_type": "code",
   "execution_count": 5,
   "metadata": {},
   "outputs": [
    {
     "data": {
      "text/plain": [
       "(150001, 55)"
      ]
     },
     "execution_count": 5,
     "metadata": {},
     "output_type": "execute_result"
    }
   ],
   "source": [
    "data.shape"
   ]
  },
  {
   "cell_type": "markdown",
   "metadata": {},
   "source": [
    "### Null Values"
   ]
  },
  {
   "cell_type": "markdown",
   "metadata": {},
   "source": [
    "#### Numerical Cols"
   ]
  },
  {
   "cell_type": "code",
   "execution_count": 6,
   "metadata": {},
   "outputs": [
    {
     "data": {
      "text/html": [
       "<div>\n",
       "<style scoped>\n",
       "    .dataframe tbody tr th:only-of-type {\n",
       "        vertical-align: middle;\n",
       "    }\n",
       "\n",
       "    .dataframe tbody tr th {\n",
       "        vertical-align: top;\n",
       "    }\n",
       "\n",
       "    .dataframe thead th {\n",
       "        text-align: right;\n",
       "    }\n",
       "</style>\n",
       "<table border=\"1\" class=\"dataframe\">\n",
       "  <thead>\n",
       "    <tr style=\"text-align: right;\">\n",
       "      <th></th>\n",
       "      <th>0</th>\n",
       "    </tr>\n",
       "  </thead>\n",
       "  <tbody>\n",
       "    <tr>\n",
       "      <th>Nb of sec with 37500B &lt; Vol UL</th>\n",
       "      <td>86.835421</td>\n",
       "    </tr>\n",
       "    <tr>\n",
       "      <th>Nb of sec with 6250B &lt; Vol UL &lt; 37500B</th>\n",
       "      <td>74.561503</td>\n",
       "    </tr>\n",
       "    <tr>\n",
       "      <th>Nb of sec with 125000B &lt; Vol DL</th>\n",
       "      <td>65.024900</td>\n",
       "    </tr>\n",
       "    <tr>\n",
       "      <th>TCP UL Retrans. Vol (Bytes)</th>\n",
       "      <td>64.432237</td>\n",
       "    </tr>\n",
       "    <tr>\n",
       "      <th>Nb of sec with 31250B &lt; Vol DL &lt; 125000B</th>\n",
       "      <td>62.390251</td>\n",
       "    </tr>\n",
       "    <tr>\n",
       "      <th>Nb of sec with 1250B &lt; Vol UL &lt; 6250B</th>\n",
       "      <td>61.928920</td>\n",
       "    </tr>\n",
       "    <tr>\n",
       "      <th>Nb of sec with 6250B &lt; Vol DL &lt; 31250B</th>\n",
       "      <td>58.877607</td>\n",
       "    </tr>\n",
       "    <tr>\n",
       "      <th>TCP DL Retrans. Vol (Bytes)</th>\n",
       "      <td>58.763608</td>\n",
       "    </tr>\n",
       "    <tr>\n",
       "      <th>HTTP UL (Bytes)</th>\n",
       "      <td>54.539636</td>\n",
       "    </tr>\n",
       "    <tr>\n",
       "      <th>HTTP DL (Bytes)</th>\n",
       "      <td>54.315638</td>\n",
       "    </tr>\n",
       "  </tbody>\n",
       "</table>\n",
       "</div>"
      ],
      "text/plain": [
       "                                                  0\n",
       "Nb of sec with 37500B < Vol UL            86.835421\n",
       "Nb of sec with 6250B < Vol UL < 37500B    74.561503\n",
       "Nb of sec with 125000B < Vol DL           65.024900\n",
       "TCP UL Retrans. Vol (Bytes)               64.432237\n",
       "Nb of sec with 31250B < Vol DL < 125000B  62.390251\n",
       "Nb of sec with 1250B < Vol UL < 6250B     61.928920\n",
       "Nb of sec with 6250B < Vol DL < 31250B    58.877607\n",
       "TCP DL Retrans. Vol (Bytes)               58.763608\n",
       "HTTP UL (Bytes)                           54.539636\n",
       "HTTP DL (Bytes)                           54.315638"
      ]
     },
     "execution_count": 6,
     "metadata": {},
     "output_type": "execute_result"
    }
   ],
   "source": [
    "#Null numerical values (percentage)\n",
    "null = data[numerical].isna().sum().sort_values(ascending = False)\n",
    "null_per = (null/150001) * 100\n",
    "null_perc = pd.DataFrame(null_per)\n",
    "null_perc.head(10)"
   ]
  },
  {
   "cell_type": "markdown",
   "metadata": {},
   "source": [
    "Some columns have big percentages of missing values. For the meantime, imputation with column means will be done incase the columns come in handy. Otherwise, they'll be dropped. The **big_data** list below will store the names of cols with missing values > 50%"
   ]
  },
  {
   "cell_type": "code",
   "execution_count": 7,
   "metadata": {},
   "outputs": [],
   "source": [
    "# columns with >50% null values\n",
    "bad_data = []\n",
    "for entry, column in zip(null_perc.iloc[:, 0], null_perc.index):\n",
    "    if entry >= 50:\n",
    "        bad_data.append(column)\n",
    "        \n",
    "# bad_data"
   ]
  },
  {
   "cell_type": "markdown",
   "metadata": {},
   "source": [
    "All the numerical columns with missing values will be imputed with the mean of the column given the absence of nominal columns."
   ]
  },
  {
   "cell_type": "code",
   "execution_count": 8,
   "metadata": {},
   "outputs": [
    {
     "data": {
      "text/plain": [
       "49"
      ]
     },
     "execution_count": 8,
     "metadata": {},
     "output_type": "execute_result"
    }
   ],
   "source": [
    "# get the numerical null values indices from the dataframe\n",
    "a = null_perc.index.to_list()\n",
    "# col_index = pd.DataFrame(raw.columns, columns = ['name'])\n",
    "indices = []\n",
    "for col in a:\n",
    "    k = data.columns.get_loc(col)\n",
    "    indices.append(k)\n",
    "# col_index\n",
    "len(indices)"
   ]
  },
  {
   "cell_type": "code",
   "execution_count": 9,
   "metadata": {},
   "outputs": [],
   "source": [
    "#imputing with column means.\n",
    "columns = indices\n",
    "for col in columns:\n",
    "    x = data.iloc[:, col].values\n",
    "    x = x.reshape(-1,1)\n",
    "    imputer = SimpleImputer(missing_values=np.nan, strategy='mean')\n",
    "    imputer = imputer.fit(x)\n",
    "    x = imputer.transform(x)\n",
    "    data.iloc[:, col] = x    "
   ]
  },
  {
   "cell_type": "code",
   "execution_count": 10,
   "metadata": {},
   "outputs": [
    {
     "data": {
      "text/plain": [
       "Start ms                                    False\n",
       "End ms                                      False\n",
       "Dur. (ms)                                   False\n",
       "IMSI                                        False\n",
       "MSISDN/Number                               False\n",
       "IMEI                                        False\n",
       "Avg RTT DL (ms)                             False\n",
       "Avg RTT UL (ms)                             False\n",
       "Avg Bearer TP DL (kbps)                     False\n",
       "Avg Bearer TP UL (kbps)                     False\n",
       "TCP DL Retrans. Vol (Bytes)                 False\n",
       "TCP UL Retrans. Vol (Bytes)                 False\n",
       "DL TP < 50 Kbps (%)                         False\n",
       "50 Kbps < DL TP < 250 Kbps (%)              False\n",
       "250 Kbps < DL TP < 1 Mbps (%)               False\n",
       "DL TP > 1 Mbps (%)                          False\n",
       "UL TP < 10 Kbps (%)                         False\n",
       "10 Kbps < UL TP < 50 Kbps (%)               False\n",
       "50 Kbps < UL TP < 300 Kbps (%)              False\n",
       "UL TP > 300 Kbps (%)                        False\n",
       "HTTP DL (Bytes)                             False\n",
       "HTTP UL (Bytes)                             False\n",
       "Activity Duration DL (ms)                   False\n",
       "Activity Duration UL (ms)                   False\n",
       "Dur. (ms).1                                 False\n",
       "Nb of sec with 125000B < Vol DL             False\n",
       "Nb of sec with 1250B < Vol UL < 6250B       False\n",
       "Nb of sec with 31250B < Vol DL < 125000B    False\n",
       "Nb of sec with 37500B < Vol UL              False\n",
       "Nb of sec with 6250B < Vol DL < 31250B      False\n",
       "Nb of sec with 6250B < Vol UL < 37500B      False\n",
       "Nb of sec with Vol DL < 6250B               False\n",
       "Nb of sec with Vol UL < 1250B               False\n",
       "Social Media DL (Bytes)                     False\n",
       "Social Media UL (Bytes)                     False\n",
       "Google DL (Bytes)                           False\n",
       "Google UL (Bytes)                           False\n",
       "Email DL (Bytes)                            False\n",
       "Email UL (Bytes)                            False\n",
       "Youtube DL (Bytes)                          False\n",
       "Youtube UL (Bytes)                          False\n",
       "Netflix DL (Bytes)                          False\n",
       "Netflix UL (Bytes)                          False\n",
       "Gaming DL (Bytes)                           False\n",
       "Gaming UL (Bytes)                           False\n",
       "Other DL (Bytes)                            False\n",
       "Other UL (Bytes)                            False\n",
       "Total UL (Bytes)                            False\n",
       "Total DL (Bytes)                            False\n",
       "dtype: bool"
      ]
     },
     "execution_count": 10,
     "metadata": {},
     "output_type": "execute_result"
    }
   ],
   "source": [
    "data[numerical].isna().any()"
   ]
  },
  {
   "cell_type": "markdown",
   "metadata": {},
   "source": [
    "#### Categorical and Timestamp cols"
   ]
  },
  {
   "cell_type": "code",
   "execution_count": 11,
   "metadata": {},
   "outputs": [
    {
     "data": {
      "text/html": [
       "<div>\n",
       "<style scoped>\n",
       "    .dataframe tbody tr th:only-of-type {\n",
       "        vertical-align: middle;\n",
       "    }\n",
       "\n",
       "    .dataframe tbody tr th {\n",
       "        vertical-align: top;\n",
       "    }\n",
       "\n",
       "    .dataframe thead th {\n",
       "        text-align: right;\n",
       "    }\n",
       "</style>\n",
       "<table border=\"1\" class=\"dataframe\">\n",
       "  <thead>\n",
       "    <tr style=\"text-align: right;\">\n",
       "      <th></th>\n",
       "      <th>0</th>\n",
       "    </tr>\n",
       "  </thead>\n",
       "  <tbody>\n",
       "    <tr>\n",
       "      <th>Last Location Name</th>\n",
       "      <td>0.768662</td>\n",
       "    </tr>\n",
       "    <tr>\n",
       "      <th>Handset Type</th>\n",
       "      <td>0.381331</td>\n",
       "    </tr>\n",
       "    <tr>\n",
       "      <th>Handset Manufacturer</th>\n",
       "      <td>0.381331</td>\n",
       "    </tr>\n",
       "    <tr>\n",
       "      <th>End</th>\n",
       "      <td>0.000667</td>\n",
       "    </tr>\n",
       "    <tr>\n",
       "      <th>Start</th>\n",
       "      <td>0.000667</td>\n",
       "    </tr>\n",
       "    <tr>\n",
       "      <th>Bearer Id</th>\n",
       "      <td>0.000000</td>\n",
       "    </tr>\n",
       "  </tbody>\n",
       "</table>\n",
       "</div>"
      ],
      "text/plain": [
       "                             0\n",
       "Last Location Name    0.768662\n",
       "Handset Type          0.381331\n",
       "Handset Manufacturer  0.381331\n",
       "End                   0.000667\n",
       "Start                 0.000667\n",
       "Bearer Id             0.000000"
      ]
     },
     "execution_count": 11,
     "metadata": {},
     "output_type": "execute_result"
    }
   ],
   "source": [
    "#Null categorical and timestamps values \n",
    "null = data[categorical + timestamps].isna().sum().sort_values(ascending = False)\n",
    "null = (null/150001) * 100\n",
    "null = pd.DataFrame(null)\n",
    "null"
   ]
  },
  {
   "cell_type": "markdown",
   "metadata": {},
   "source": [
    "The null values in these columns contribute a small percentage to the column values, thus not  a big deal. Imputation will be done using the mode/most_frequent value. But first, they have to be converted to type **str**."
   ]
  },
  {
   "cell_type": "code",
   "execution_count": 12,
   "metadata": {},
   "outputs": [],
   "source": [
    "for col in categorical+timestamps:\n",
    "    data[col] = data[col].astype(str)"
   ]
  },
  {
   "cell_type": "code",
   "execution_count": 13,
   "metadata": {},
   "outputs": [
    {
     "data": {
      "text/plain": [
       "[50, 52, 51, 54, 53, 49]"
      ]
     },
     "execution_count": 13,
     "metadata": {},
     "output_type": "execute_result"
    }
   ],
   "source": [
    "# get the numerical null values indices from the dataframe\n",
    "a = null.index.to_list()\n",
    "# col_index = pd.DataFrame(raw.columns, columns = ['name'])\n",
    "indices = []\n",
    "for col in a:\n",
    "    k = data.columns.get_loc(col)\n",
    "    indices.append(k)\n",
    "    \n",
    "indices"
   ]
  },
  {
   "cell_type": "code",
   "execution_count": 14,
   "metadata": {},
   "outputs": [],
   "source": [
    "# imputing with mode\n",
    "columns = indices\n",
    "for col in columns:\n",
    "    x = data.iloc[:, col].values\n",
    "    x = x.reshape(-1,1)\n",
    "    imputer = SimpleImputer(missing_values=np.nan, strategy='most_frequent')\n",
    "    imputer = imputer.fit(x)\n",
    "    x = imputer.transform(x)\n",
    "    data.iloc[:, col] = x   "
   ]
  },
  {
   "cell_type": "code",
   "execution_count": 15,
   "metadata": {},
   "outputs": [
    {
     "data": {
      "text/plain": [
       "Bearer Id               False\n",
       "Last Location Name      False\n",
       "Handset Manufacturer    False\n",
       "Handset Type            False\n",
       "Start                   False\n",
       "End                     False\n",
       "dtype: bool"
      ]
     },
     "execution_count": 15,
     "metadata": {},
     "output_type": "execute_result"
    }
   ],
   "source": [
    "data[categorical+timestamps].isna().any()"
   ]
  },
  {
   "cell_type": "markdown",
   "metadata": {},
   "source": [
    "All null values taken care of."
   ]
  },
  {
   "cell_type": "markdown",
   "metadata": {},
   "source": [
    "### Timestamps to Pandas Datetime object\n",
    "For imputation to work, their data type had to be change to string. That has to be reversed."
   ]
  },
  {
   "cell_type": "code",
   "execution_count": 16,
   "metadata": {},
   "outputs": [],
   "source": [
    "data['Start'] = pd.to_datetime(data['Start'])\n",
    "data['End'] = pd.to_datetime(data['End'])"
   ]
  },
  {
   "cell_type": "markdown",
   "metadata": {},
   "source": [
    "### Feature Generation"
   ]
  },
  {
   "cell_type": "code",
   "execution_count": 17,
   "metadata": {},
   "outputs": [],
   "source": [
    "data['total_bytes'] =  data['Total UL (Bytes)'] + data['Total DL (Bytes)']\n",
    "data['social_media'] = data['Social Media DL (Bytes)'] + data['Social Media UL (Bytes)']\n",
    "data['email'] = data['Email DL (Bytes)'] + data['Email UL (Bytes)']\n",
    "data['google'] = data['Google DL (Bytes)'] + data['Google UL (Bytes)']\n",
    "data['youtube'] = data['Youtube DL (Bytes)'] + data['Youtube UL (Bytes)']\n",
    "data['netflix'] = data['Netflix UL (Bytes)'] + data['Netflix DL (Bytes)']\n",
    "data['gaming'] = data['Gaming DL (Bytes)'] + data['Gaming UL (Bytes)']\n",
    "data['other'] = data['Other DL (Bytes)'] + data['Other UL (Bytes)']"
   ]
  },
  {
   "cell_type": "markdown",
   "metadata": {},
   "source": [
    "### Encoding Categorical columns\n",
    "\n",
    "The method pd.get_dummies() encodes categorical variables using the OneHotEncoder method which is preferred over the LabelEncoder. The latter assigns numerical valuesm to the variable's values hierarchically. This will result to biased data since some entries could be perceived as having more weight than others when the only difference is class type.\n",
    "Despite the preference of OHE  over LE, the dataset is already big, encoding it with OHE would increase it's size at least twice. Due to computational limitations (memory allocation), LE is used. But always, OHE is a better performer."
   ]
  },
  {
   "cell_type": "code",
   "execution_count": 18,
   "metadata": {},
   "outputs": [
    {
     "data": {
      "text/html": [
       "<div>\n",
       "<style scoped>\n",
       "    .dataframe tbody tr th:only-of-type {\n",
       "        vertical-align: middle;\n",
       "    }\n",
       "\n",
       "    .dataframe tbody tr th {\n",
       "        vertical-align: top;\n",
       "    }\n",
       "\n",
       "    .dataframe thead th {\n",
       "        text-align: right;\n",
       "    }\n",
       "</style>\n",
       "<table border=\"1\" class=\"dataframe\">\n",
       "  <thead>\n",
       "    <tr style=\"text-align: right;\">\n",
       "      <th></th>\n",
       "      <th>Bearer Id</th>\n",
       "      <th>Last Location Name</th>\n",
       "      <th>Handset Manufacturer</th>\n",
       "      <th>Handset Type</th>\n",
       "    </tr>\n",
       "  </thead>\n",
       "  <tbody>\n",
       "    <tr>\n",
       "      <th>0</th>\n",
       "      <td>13114483460844900352</td>\n",
       "      <td>9164566995485190</td>\n",
       "      <td>Samsung</td>\n",
       "      <td>Samsung Galaxy A5 Sm-A520F</td>\n",
       "    </tr>\n",
       "    <tr>\n",
       "      <th>1</th>\n",
       "      <td>13114483482878900224</td>\n",
       "      <td>L77566A</td>\n",
       "      <td>Samsung</td>\n",
       "      <td>Samsung Galaxy J5 (Sm-J530)</td>\n",
       "    </tr>\n",
       "    <tr>\n",
       "      <th>2</th>\n",
       "      <td>13114483484080500736</td>\n",
       "      <td>D42335A</td>\n",
       "      <td>Samsung</td>\n",
       "      <td>Samsung Galaxy A8 (2018)</td>\n",
       "    </tr>\n",
       "  </tbody>\n",
       "</table>\n",
       "</div>"
      ],
      "text/plain": [
       "              Bearer Id Last Location Name Handset Manufacturer  \\\n",
       "0  13114483460844900352   9164566995485190              Samsung   \n",
       "1  13114483482878900224            L77566A              Samsung   \n",
       "2  13114483484080500736            D42335A              Samsung   \n",
       "\n",
       "                  Handset Type  \n",
       "0   Samsung Galaxy A5 Sm-A520F  \n",
       "1  Samsung Galaxy J5 (Sm-J530)  \n",
       "2     Samsung Galaxy A8 (2018)  "
      ]
     },
     "execution_count": 18,
     "metadata": {},
     "output_type": "execute_result"
    }
   ],
   "source": [
    "# enc_data = pd.get_dummies(data).reset_index(drop=True)\n",
    "# enc_data.shape\n",
    "data[categorical].head(3)"
   ]
  },
  {
   "cell_type": "code",
   "execution_count": 19,
   "metadata": {},
   "outputs": [],
   "source": [
    "columns = [50, 52, 51, 49]\n",
    "for col in columns:\n",
    "    x = data.iloc[:, col].values\n",
    "    x = x.reshape(-1,1)\n",
    "    encoder = LabelEncoder()\n",
    "    encoder = encoder.fit(x)\n",
    "    x = encoder.transform(x)\n",
    "    name = data.columns[col]\n",
    "    data[name + '_encoded'] = x   # create new columns with the encoded values instead of replacing them, might come in handy at later stages"
   ]
  },
  {
   "cell_type": "markdown",
   "metadata": {},
   "source": [
    "## 1. User Overiew Analysis"
   ]
  },
  {
   "cell_type": "markdown",
   "metadata": {},
   "source": [
    "### Top 10 handsets"
   ]
  },
  {
   "cell_type": "code",
   "execution_count": 20,
   "metadata": {},
   "outputs": [
    {
     "data": {
      "text/html": [
       "<div>\n",
       "<style scoped>\n",
       "    .dataframe tbody tr th:only-of-type {\n",
       "        vertical-align: middle;\n",
       "    }\n",
       "\n",
       "    .dataframe tbody tr th {\n",
       "        vertical-align: top;\n",
       "    }\n",
       "\n",
       "    .dataframe thead th {\n",
       "        text-align: right;\n",
       "    }\n",
       "</style>\n",
       "<table border=\"1\" class=\"dataframe\">\n",
       "  <thead>\n",
       "    <tr style=\"text-align: right;\">\n",
       "      <th></th>\n",
       "      <th>Handset Type</th>\n",
       "    </tr>\n",
       "  </thead>\n",
       "  <tbody>\n",
       "    <tr>\n",
       "      <th>Huawei B528S-23A</th>\n",
       "      <td>19752</td>\n",
       "    </tr>\n",
       "    <tr>\n",
       "      <th>Apple iPhone 6S (A1688)</th>\n",
       "      <td>9419</td>\n",
       "    </tr>\n",
       "    <tr>\n",
       "      <th>Apple iPhone 6 (A1586)</th>\n",
       "      <td>9023</td>\n",
       "    </tr>\n",
       "    <tr>\n",
       "      <th>undefined</th>\n",
       "      <td>8987</td>\n",
       "    </tr>\n",
       "    <tr>\n",
       "      <th>Apple iPhone 7 (A1778)</th>\n",
       "      <td>6326</td>\n",
       "    </tr>\n",
       "    <tr>\n",
       "      <th>Apple iPhone Se (A1723)</th>\n",
       "      <td>5187</td>\n",
       "    </tr>\n",
       "    <tr>\n",
       "      <th>Apple iPhone 8 (A1905)</th>\n",
       "      <td>4993</td>\n",
       "    </tr>\n",
       "    <tr>\n",
       "      <th>Apple iPhone Xr (A2105)</th>\n",
       "      <td>4568</td>\n",
       "    </tr>\n",
       "    <tr>\n",
       "      <th>Samsung Galaxy S8 (Sm-G950F)</th>\n",
       "      <td>4520</td>\n",
       "    </tr>\n",
       "    <tr>\n",
       "      <th>Apple iPhone X (A1901)</th>\n",
       "      <td>3813</td>\n",
       "    </tr>\n",
       "  </tbody>\n",
       "</table>\n",
       "</div>"
      ],
      "text/plain": [
       "                              Handset Type\n",
       "Huawei B528S-23A                     19752\n",
       "Apple iPhone 6S (A1688)               9419\n",
       "Apple iPhone 6 (A1586)                9023\n",
       "undefined                             8987\n",
       "Apple iPhone 7 (A1778)                6326\n",
       "Apple iPhone Se (A1723)               5187\n",
       "Apple iPhone 8 (A1905)                4993\n",
       "Apple iPhone Xr (A2105)               4568\n",
       "Samsung Galaxy S8 (Sm-G950F)          4520\n",
       "Apple iPhone X (A1901)                3813"
      ]
     },
     "execution_count": 20,
     "metadata": {},
     "output_type": "execute_result"
    }
   ],
   "source": [
    "top_10_sets = data['Handset Type'].value_counts(ascending = False).head(10)\n",
    "top_10_sets = pd.DataFrame(top_10_sets)\n",
    "top_10_sets"
   ]
  },
  {
   "cell_type": "code",
   "execution_count": 21,
   "metadata": {},
   "outputs": [
    {
     "data": {
      "text/plain": [
       "Text(0.5, 1.0, 'A barplot indicating top ten handset types')"
      ]
     },
     "execution_count": 21,
     "metadata": {},
     "output_type": "execute_result"
    },
    {
     "data": {
      "image/png": "[encoded data removed]",
      "text/plain": [
       "<Figure size 1440x720 with 1 Axes>"
      ]
     },
     "metadata": {
      "needs_background": "light"
     },
     "output_type": "display_data"
    }
   ],
   "source": [
    "plt.figure(figsize=(20,10))\n",
    "sns.barplot(y = top_10_sets.index, x = top_10_sets['Handset Type'])\n",
    "plt.xlabel('Number of handsets')\n",
    "plt.title('A barplot indicating top ten handset types')"
   ]
  },
  {
   "cell_type": "markdown",
   "metadata": {},
   "source": [
    "### Bottom 10 handsets"
   ]
  },
  {
   "cell_type": "code",
   "execution_count": 22,
   "metadata": {},
   "outputs": [
    {
     "data": {
      "text/plain": [
       "Text(0.5, 1.0, 'A barplot indicating bottom ten handset types')"
      ]
     },
     "execution_count": 22,
     "metadata": {},
     "output_type": "execute_result"
    },
    {
     "data": {
      "image/png": "[encoded data removed]",
      "text/plain": [
       "<Figure size 1440x720 with 1 Axes>"
      ]
     },
     "metadata": {
      "needs_background": "light"
     },
     "output_type": "display_data"
    }
   ],
   "source": [
    "b_10 = data['Handset Type'].value_counts(ascending = False).tail(10)\n",
    "b_10 = pd.DataFrame(b_10)\n",
    "\n",
    "plt.figure(figsize=(20,10))\n",
    "sns.barplot(y = b_10.index, x = b_10['Handset Type'])\n",
    "plt.xlabel('Number of handsets')\n",
    "plt.title('A barplot indicating bottom ten handset types')"
   ]
  },
  {
   "cell_type": "markdown",
   "metadata": {},
   "source": [
    "### top 3 handset manufacturers"
   ]
  },
  {
   "cell_type": "code",
   "execution_count": 23,
   "metadata": {},
   "outputs": [
    {
     "data": {
      "text/html": [
       "<div>\n",
       "<style scoped>\n",
       "    .dataframe tbody tr th:only-of-type {\n",
       "        vertical-align: middle;\n",
       "    }\n",
       "\n",
       "    .dataframe tbody tr th {\n",
       "        vertical-align: top;\n",
       "    }\n",
       "\n",
       "    .dataframe thead th {\n",
       "        text-align: right;\n",
       "    }\n",
       "</style>\n",
       "<table border=\"1\" class=\"dataframe\">\n",
       "  <thead>\n",
       "    <tr style=\"text-align: right;\">\n",
       "      <th></th>\n",
       "      <th>Handset Manufacturer</th>\n",
       "    </tr>\n",
       "  </thead>\n",
       "  <tbody>\n",
       "    <tr>\n",
       "      <th>Apple</th>\n",
       "      <td>59565</td>\n",
       "    </tr>\n",
       "    <tr>\n",
       "      <th>Samsung</th>\n",
       "      <td>40839</td>\n",
       "    </tr>\n",
       "    <tr>\n",
       "      <th>Huawei</th>\n",
       "      <td>34423</td>\n",
       "    </tr>\n",
       "  </tbody>\n",
       "</table>\n",
       "</div>"
      ],
      "text/plain": [
       "         Handset Manufacturer\n",
       "Apple                   59565\n",
       "Samsung                 40839\n",
       "Huawei                  34423"
      ]
     },
     "execution_count": 23,
     "metadata": {},
     "output_type": "execute_result"
    }
   ],
   "source": [
    "top_3_manufacturers = data['Handset Manufacturer'].value_counts(ascending = False).head(3)\n",
    "top_3_manufacturers = pd.DataFrame(top_3_manufacturers)\n",
    "top_3_manufacturers"
   ]
  },
  {
   "cell_type": "code",
   "execution_count": 24,
   "metadata": {},
   "outputs": [
    {
     "data": {
      "text/plain": [
       "Text(0.5, 1.0, 'A barplot indicating top 3 handset manufacturers')"
      ]
     },
     "execution_count": 24,
     "metadata": {},
     "output_type": "execute_result"
    },
    {
     "data": {
      "image/png": "[encoded data removed]",
      "text/plain": [
       "<Figure size 720x360 with 1 Axes>"
      ]
     },
     "metadata": {
      "needs_background": "light"
     },
     "output_type": "display_data"
    }
   ],
   "source": [
    "plt.figure(figsize=(10,5))\n",
    "sns.barplot(y = top_3_manufacturers.index, x = top_3_manufacturers['Handset Manufacturer'])\n",
    "plt.xlabel('Number of products')\n",
    "plt.title('A barplot indicating top 3 handset manufacturers')"
   ]
  },
  {
   "cell_type": "markdown",
   "metadata": {},
   "source": [
    "### Bottom 3 manufacturers"
   ]
  },
  {
   "cell_type": "code",
   "execution_count": 25,
   "metadata": {},
   "outputs": [
    {
     "data": {
      "text/plain": [
       "Text(0.5, 1.0, 'A barplot indicating bottom 3 handset manufacturers')"
      ]
     },
     "execution_count": 25,
     "metadata": {},
     "output_type": "execute_result"
    },
    {
     "data": {
      "image/png": "[encoded data removed]",
      "text/plain": [
       "<Figure size 720x360 with 1 Axes>"
      ]
     },
     "metadata": {
      "needs_background": "light"
     },
     "output_type": "display_data"
    }
   ],
   "source": [
    "b3 = data['Handset Manufacturer'].value_counts(ascending = False).tail(3)\n",
    "b3 = pd.DataFrame(b3)\n",
    "\n",
    "plt.figure(figsize=(10,5))\n",
    "sns.barplot(y = b3.index, x = b3['Handset Manufacturer'])\n",
    "plt.xlabel('Number of products')\n",
    "plt.title('A barplot indicating bottom 3 handset manufacturers')"
   ]
  },
  {
   "cell_type": "markdown",
   "metadata": {},
   "source": [
    "###  top 5 handsets per handset manufacturer"
   ]
  },
  {
   "cell_type": "code",
   "execution_count": 26,
   "metadata": {
    "scrolled": true
   },
   "outputs": [
    {
     "data": {
      "text/html": [
       "<div>\n",
       "<style scoped>\n",
       "    .dataframe tbody tr th:only-of-type {\n",
       "        vertical-align: middle;\n",
       "    }\n",
       "\n",
       "    .dataframe tbody tr th {\n",
       "        vertical-align: top;\n",
       "    }\n",
       "\n",
       "    .dataframe thead th {\n",
       "        text-align: right;\n",
       "    }\n",
       "</style>\n",
       "<table border=\"1\" class=\"dataframe\">\n",
       "  <thead>\n",
       "    <tr style=\"text-align: right;\">\n",
       "      <th></th>\n",
       "      <th>Handset Manufacturer</th>\n",
       "      <th>Handset Type</th>\n",
       "      <th>count</th>\n",
       "    </tr>\n",
       "  </thead>\n",
       "  <tbody>\n",
       "    <tr>\n",
       "      <th>66</th>\n",
       "      <td>Apple</td>\n",
       "      <td>Apple iPhone 7 (A1778)</td>\n",
       "      <td>6326</td>\n",
       "    </tr>\n",
       "    <tr>\n",
       "      <th>80</th>\n",
       "      <td>Apple</td>\n",
       "      <td>Apple iPhone Se (A1723)</td>\n",
       "      <td>5187</td>\n",
       "    </tr>\n",
       "    <tr>\n",
       "      <th>73</th>\n",
       "      <td>Apple</td>\n",
       "      <td>Apple iPhone 8 (A1905)</td>\n",
       "      <td>4993</td>\n",
       "    </tr>\n",
       "    <tr>\n",
       "      <th>24</th>\n",
       "      <td>Alif Communications</td>\n",
       "      <td>Alif Communicati. Pulian Cm84</td>\n",
       "      <td>1</td>\n",
       "    </tr>\n",
       "    <tr>\n",
       "      <th>23</th>\n",
       "      <td>Adar</td>\n",
       "      <td>Adar Stanley Mobile S231</td>\n",
       "      <td>1</td>\n",
       "    </tr>\n",
       "    <tr>\n",
       "      <th>20</th>\n",
       "      <td>Acer</td>\n",
       "      <td>Acer M310</td>\n",
       "      <td>5</td>\n",
       "    </tr>\n",
       "    <tr>\n",
       "      <th>19</th>\n",
       "      <td>Acer</td>\n",
       "      <td>Acer Liquid Zest Plus</td>\n",
       "      <td>2</td>\n",
       "    </tr>\n",
       "    <tr>\n",
       "      <th>14</th>\n",
       "      <td>Acer</td>\n",
       "      <td>Acer Liquid M220</td>\n",
       "      <td>1</td>\n",
       "    </tr>\n",
       "    <tr>\n",
       "      <th>15</th>\n",
       "      <td>Acer</td>\n",
       "      <td>Acer Liquid Z220</td>\n",
       "      <td>1</td>\n",
       "    </tr>\n",
       "    <tr>\n",
       "      <th>16</th>\n",
       "      <td>Acer</td>\n",
       "      <td>Acer Liquid Z530</td>\n",
       "      <td>1</td>\n",
       "    </tr>\n",
       "    <tr>\n",
       "      <th>7</th>\n",
       "      <td>ASUSTeK</td>\n",
       "      <td>Asustek Asus Zb552Kl Zenfone Go</td>\n",
       "      <td>7</td>\n",
       "    </tr>\n",
       "    <tr>\n",
       "      <th>12</th>\n",
       "      <td>ASUSTeK</td>\n",
       "      <td>Asustek Asus Zenfone2 Laser Ze600Kl</td>\n",
       "      <td>5</td>\n",
       "    </tr>\n",
       "    <tr>\n",
       "      <th>13</th>\n",
       "      <td>ASUSTeK</td>\n",
       "      <td>Asustek Asus Zenfone2 Laser Ze601Kl</td>\n",
       "      <td>4</td>\n",
       "    </tr>\n",
       "    <tr>\n",
       "      <th>9</th>\n",
       "      <td>ASUSTeK</td>\n",
       "      <td>Asustek Asus Zenfone 2 Laser Ze500Kl</td>\n",
       "      <td>3</td>\n",
       "    </tr>\n",
       "    <tr>\n",
       "      <th>10</th>\n",
       "      <td>ASUSTeK</td>\n",
       "      <td>Asustek Asus Zenfone Selfie Zd551Kl</td>\n",
       "      <td>2</td>\n",
       "    </tr>\n",
       "    <tr>\n",
       "      <th>6</th>\n",
       "      <td>A-Link Telecom International Co Limited</td>\n",
       "      <td>A-Link Telecom I. Cubot X18 Plus</td>\n",
       "      <td>2</td>\n",
       "    </tr>\n",
       "    <tr>\n",
       "      <th>0</th>\n",
       "      <td>A-Link Telecom International Co Limited</td>\n",
       "      <td>A-Link Telecom I. Cubot A5</td>\n",
       "      <td>1</td>\n",
       "    </tr>\n",
       "    <tr>\n",
       "      <th>1</th>\n",
       "      <td>A-Link Telecom International Co Limited</td>\n",
       "      <td>A-Link Telecom I. Cubot Note Plus</td>\n",
       "      <td>1</td>\n",
       "    </tr>\n",
       "    <tr>\n",
       "      <th>2</th>\n",
       "      <td>A-Link Telecom International Co Limited</td>\n",
       "      <td>A-Link Telecom I. Cubot Note S</td>\n",
       "      <td>1</td>\n",
       "    </tr>\n",
       "    <tr>\n",
       "      <th>3</th>\n",
       "      <td>A-Link Telecom International Co Limited</td>\n",
       "      <td>A-Link Telecom I. Cubot Nova</td>\n",
       "      <td>1</td>\n",
       "    </tr>\n",
       "  </tbody>\n",
       "</table>\n",
       "</div>"
      ],
      "text/plain": [
       "                       Handset Manufacturer  \\\n",
       "66                                    Apple   \n",
       "80                                    Apple   \n",
       "73                                    Apple   \n",
       "24                      Alif Communications   \n",
       "23                                     Adar   \n",
       "20                                     Acer   \n",
       "19                                     Acer   \n",
       "14                                     Acer   \n",
       "15                                     Acer   \n",
       "16                                     Acer   \n",
       "7                                   ASUSTeK   \n",
       "12                                  ASUSTeK   \n",
       "13                                  ASUSTeK   \n",
       "9                                   ASUSTeK   \n",
       "10                                  ASUSTeK   \n",
       "6   A-Link Telecom International Co Limited   \n",
       "0   A-Link Telecom International Co Limited   \n",
       "1   A-Link Telecom International Co Limited   \n",
       "2   A-Link Telecom International Co Limited   \n",
       "3   A-Link Telecom International Co Limited   \n",
       "\n",
       "                            Handset Type  count  \n",
       "66                Apple iPhone 7 (A1778)   6326  \n",
       "80               Apple iPhone Se (A1723)   5187  \n",
       "73                Apple iPhone 8 (A1905)   4993  \n",
       "24         Alif Communicati. Pulian Cm84      1  \n",
       "23              Adar Stanley Mobile S231      1  \n",
       "20                             Acer M310      5  \n",
       "19                 Acer Liquid Zest Plus      2  \n",
       "14                      Acer Liquid M220      1  \n",
       "15                      Acer Liquid Z220      1  \n",
       "16                      Acer Liquid Z530      1  \n",
       "7        Asustek Asus Zb552Kl Zenfone Go      7  \n",
       "12   Asustek Asus Zenfone2 Laser Ze600Kl      5  \n",
       "13   Asustek Asus Zenfone2 Laser Ze601Kl      4  \n",
       "9   Asustek Asus Zenfone 2 Laser Ze500Kl      3  \n",
       "10   Asustek Asus Zenfone Selfie Zd551Kl      2  \n",
       "6       A-Link Telecom I. Cubot X18 Plus      2  \n",
       "0             A-Link Telecom I. Cubot A5      1  \n",
       "1      A-Link Telecom I. Cubot Note Plus      1  \n",
       "2         A-Link Telecom I. Cubot Note S      1  \n",
       "3           A-Link Telecom I. Cubot Nova      1  "
      ]
     },
     "execution_count": 26,
     "metadata": {},
     "output_type": "execute_result"
    }
   ],
   "source": [
    "a = data.groupby(['Handset Manufacturer', 'Handset Type']).size().reset_index(name = 'count').sort_values(['Handset Manufacturer', 'count'], ascending = False).groupby('Handset Manufacturer').head(5)\n",
    "a.tail(20)"
   ]
  },
  {
   "cell_type": "code",
   "execution_count": 27,
   "metadata": {},
   "outputs": [],
   "source": [
    "# data.groupby([\"Handset Manufacturer\", 'Handset Type'])['Handset Type'].count().reset_index(name='Count')\n",
    "# b = pd.DataFrame(data.groupby(['Handset Manufacturer', 'Handset Type']).size()).groupby('Handset Manufacturer')\n",
    "# b = b.apply(lambda _df: _df.sort_values(by=['Handset Manufacturer'], ascending = False))\n",
    "# b.head(20)\n",
    "# data[data['Handset Type'] == 'Apple iPhone 7 (A1778)'].shape"
   ]
  },
  {
   "cell_type": "code",
   "execution_count": 28,
   "metadata": {},
   "outputs": [],
   "source": [
    "# data.groupby('Handset Manufacturer')['Handset Type'].value_counts().unstack(0).plot.barh()"
   ]
  },
  {
   "cell_type": "markdown",
   "metadata": {},
   "source": [
    "### Make a short interpretation and recommendation to marketing teams"
   ]
  },
  {
   "cell_type": "markdown",
   "metadata": {},
   "source": [
    "* Apple, Huawei and Samsung are the leading manufacturers. The top 10 handsets also are manufactured by these companies. Some of the bottom 10 handsets also belong to these manufacturers. Thus the volume of the most common handsets should be increased to replace the least common sets. \n",
    "* Products from the bottom 3 manufacturers should no longer be stocked. Their extremely small volume matches small profit percentage in comparison to other manufacturers."
   ]
  },
  {
   "cell_type": "markdown",
   "metadata": {},
   "source": [
    "### Aggregate per user the following information in the column:\n",
    "\n",
    "1.  number of xDR sessions"
   ]
  },
  {
   "cell_type": "code",
   "execution_count": 29,
   "metadata": {},
   "outputs": [
    {
     "data": {
      "text/html": [
       "<div>\n",
       "<style scoped>\n",
       "    .dataframe tbody tr th:only-of-type {\n",
       "        vertical-align: middle;\n",
       "    }\n",
       "\n",
       "    .dataframe tbody tr th {\n",
       "        vertical-align: top;\n",
       "    }\n",
       "\n",
       "    .dataframe thead th {\n",
       "        text-align: right;\n",
       "    }\n",
       "</style>\n",
       "<table border=\"1\" class=\"dataframe\">\n",
       "  <thead>\n",
       "    <tr style=\"text-align: right;\">\n",
       "      <th></th>\n",
       "      <th>xdr sessions</th>\n",
       "    </tr>\n",
       "    <tr>\n",
       "      <th>MSISDN/Number</th>\n",
       "      <th></th>\n",
       "    </tr>\n",
       "  </thead>\n",
       "  <tbody>\n",
       "    <tr>\n",
       "      <th>3.360100e+10</th>\n",
       "      <td>1</td>\n",
       "    </tr>\n",
       "    <tr>\n",
       "      <th>3.360100e+10</th>\n",
       "      <td>1</td>\n",
       "    </tr>\n",
       "    <tr>\n",
       "      <th>3.360100e+10</th>\n",
       "      <td>1</td>\n",
       "    </tr>\n",
       "    <tr>\n",
       "      <th>3.360101e+10</th>\n",
       "      <td>1</td>\n",
       "    </tr>\n",
       "    <tr>\n",
       "      <th>3.360101e+10</th>\n",
       "      <td>2</td>\n",
       "    </tr>\n",
       "  </tbody>\n",
       "</table>\n",
       "</div>"
      ],
      "text/plain": [
       "               xdr sessions\n",
       "MSISDN/Number              \n",
       "3.360100e+10              1\n",
       "3.360100e+10              1\n",
       "3.360100e+10              1\n",
       "3.360101e+10              1\n",
       "3.360101e+10              2"
      ]
     },
     "execution_count": 29,
     "metadata": {},
     "output_type": "execute_result"
    }
   ],
   "source": [
    "xdr_sess = data[['Bearer Id', 'MSISDN/Number']]\n",
    "a = xdr_sess.groupby('MSISDN/Number').count()\n",
    "a.columns = ['xdr sessions']\n",
    "a.head()"
   ]
  },
  {
   "cell_type": "code",
   "execution_count": 30,
   "metadata": {},
   "outputs": [
    {
     "data": {
      "text/plain": [
       "Text(0.5, 1.0, 'users with highest session numbers')"
      ]
     },
     "execution_count": 30,
     "metadata": {},
     "output_type": "execute_result"
    },
    {
     "data": {
      "image/png": "[encoded data removed]",
      "text/plain": [
       "<Figure size 576x432 with 1 Axes>"
      ]
     },
     "metadata": {
      "needs_background": "light"
     },
     "output_type": "display_data"
    }
   ],
   "source": [
    "t = a.sort_values(by = 'xdr sessions', ascending = False).head(10)\n",
    "plt.figure(figsize=(8,6))\n",
    "sns.barplot(x = t.index, y = t['xdr sessions'])\n",
    "plt.xticks(rotation = 45)\n",
    "plt.title('users with highest session numbers')"
   ]
  },
  {
   "cell_type": "markdown",
   "metadata": {},
   "source": [
    "2.  Session duration"
   ]
  },
  {
   "cell_type": "code",
   "execution_count": 31,
   "metadata": {},
   "outputs": [
    {
     "data": {
      "text/html": [
       "<div>\n",
       "<style scoped>\n",
       "    .dataframe tbody tr th:only-of-type {\n",
       "        vertical-align: middle;\n",
       "    }\n",
       "\n",
       "    .dataframe tbody tr th {\n",
       "        vertical-align: top;\n",
       "    }\n",
       "\n",
       "    .dataframe thead th {\n",
       "        text-align: right;\n",
       "    }\n",
       "</style>\n",
       "<table border=\"1\" class=\"dataframe\">\n",
       "  <thead>\n",
       "    <tr style=\"text-align: right;\">\n",
       "      <th></th>\n",
       "      <th>sess_duration (ms)</th>\n",
       "    </tr>\n",
       "    <tr>\n",
       "      <th>MSISDN/Number</th>\n",
       "      <th></th>\n",
       "    </tr>\n",
       "  </thead>\n",
       "  <tbody>\n",
       "    <tr>\n",
       "      <th>3.360100e+10</th>\n",
       "      <td>116720.0</td>\n",
       "    </tr>\n",
       "    <tr>\n",
       "      <th>3.360100e+10</th>\n",
       "      <td>181230.0</td>\n",
       "    </tr>\n",
       "    <tr>\n",
       "      <th>3.360100e+10</th>\n",
       "      <td>134969.0</td>\n",
       "    </tr>\n",
       "    <tr>\n",
       "      <th>3.360101e+10</th>\n",
       "      <td>49878.0</td>\n",
       "    </tr>\n",
       "    <tr>\n",
       "      <th>3.360101e+10</th>\n",
       "      <td>37104.0</td>\n",
       "    </tr>\n",
       "  </tbody>\n",
       "</table>\n",
       "</div>"
      ],
      "text/plain": [
       "               sess_duration (ms)\n",
       "MSISDN/Number                    \n",
       "3.360100e+10             116720.0\n",
       "3.360100e+10             181230.0\n",
       "3.360100e+10             134969.0\n",
       "3.360101e+10              49878.0\n",
       "3.360101e+10              37104.0"
      ]
     },
     "execution_count": 31,
     "metadata": {},
     "output_type": "execute_result"
    }
   ],
   "source": [
    "duration = data[['Dur. (ms)', 'MSISDN/Number']]\n",
    "b = duration.groupby('MSISDN/Number').sum()\n",
    "b.columns = ['sess_duration (ms)']\n",
    "b.head()"
   ]
  },
  {
   "cell_type": "code",
   "execution_count": 32,
   "metadata": {},
   "outputs": [
    {
     "data": {
      "text/plain": [
       "Text(0.5, 1.0, 'users with longest session duration')"
      ]
     },
     "execution_count": 32,
     "metadata": {},
     "output_type": "execute_result"
    },
    {
     "data": {
      "image/png": "[encoded data removed]",
      "text/plain": [
       "<Figure size 576x432 with 1 Axes>"
      ]
     },
     "metadata": {
      "needs_background": "light"
     },
     "output_type": "display_data"
    }
   ],
   "source": [
    "t = b.sort_values(by = 'sess_duration (ms)', ascending = False).head(10)\n",
    "plt.figure(figsize=(8,6))\n",
    "sns.barplot(x = t.index, y = t['sess_duration (ms)'])\n",
    "plt.xticks(rotation = 45)\n",
    "plt.title('users with longest session duration')"
   ]
  },
  {
   "cell_type": "markdown",
   "metadata": {},
   "source": [
    "3. The total download (DL) and upload (UL) data"
   ]
  },
  {
   "cell_type": "code",
   "execution_count": 33,
   "metadata": {},
   "outputs": [
    {
     "data": {
      "text/html": [
       "<div>\n",
       "<style scoped>\n",
       "    .dataframe tbody tr th:only-of-type {\n",
       "        vertical-align: middle;\n",
       "    }\n",
       "\n",
       "    .dataframe tbody tr th {\n",
       "        vertical-align: top;\n",
       "    }\n",
       "\n",
       "    .dataframe thead th {\n",
       "        text-align: right;\n",
       "    }\n",
       "</style>\n",
       "<table border=\"1\" class=\"dataframe\">\n",
       "  <thead>\n",
       "    <tr style=\"text-align: right;\">\n",
       "      <th></th>\n",
       "      <th>Total UL (Bytes)</th>\n",
       "      <th>Total DL (Bytes)</th>\n",
       "      <th>total_bytes</th>\n",
       "    </tr>\n",
       "    <tr>\n",
       "      <th>MSISDN/Number</th>\n",
       "      <th></th>\n",
       "      <th></th>\n",
       "      <th></th>\n",
       "    </tr>\n",
       "  </thead>\n",
       "  <tbody>\n",
       "    <tr>\n",
       "      <th>3.360100e+10</th>\n",
       "      <td>36053108.0</td>\n",
       "      <td>8.426375e+08</td>\n",
       "      <td>8.786906e+08</td>\n",
       "    </tr>\n",
       "    <tr>\n",
       "      <th>3.360100e+10</th>\n",
       "      <td>36104459.0</td>\n",
       "      <td>1.207552e+08</td>\n",
       "      <td>1.568596e+08</td>\n",
       "    </tr>\n",
       "    <tr>\n",
       "      <th>3.360100e+10</th>\n",
       "      <td>39306820.0</td>\n",
       "      <td>5.566597e+08</td>\n",
       "      <td>5.959665e+08</td>\n",
       "    </tr>\n",
       "    <tr>\n",
       "      <th>3.360101e+10</th>\n",
       "      <td>20327526.0</td>\n",
       "      <td>4.019932e+08</td>\n",
       "      <td>4.223207e+08</td>\n",
       "    </tr>\n",
       "    <tr>\n",
       "      <th>3.360101e+10</th>\n",
       "      <td>94280527.0</td>\n",
       "      <td>1.363130e+09</td>\n",
       "      <td>1.457411e+09</td>\n",
       "    </tr>\n",
       "  </tbody>\n",
       "</table>\n",
       "</div>"
      ],
      "text/plain": [
       "               Total UL (Bytes)  Total DL (Bytes)   total_bytes\n",
       "MSISDN/Number                                                  \n",
       "3.360100e+10         36053108.0      8.426375e+08  8.786906e+08\n",
       "3.360100e+10         36104459.0      1.207552e+08  1.568596e+08\n",
       "3.360100e+10         39306820.0      5.566597e+08  5.959665e+08\n",
       "3.360101e+10         20327526.0      4.019932e+08  4.223207e+08\n",
       "3.360101e+10         94280527.0      1.363130e+09  1.457411e+09"
      ]
     },
     "execution_count": 33,
     "metadata": {},
     "output_type": "execute_result"
    }
   ],
   "source": [
    "byte = data[['MSISDN/Number', 'Total UL (Bytes)', 'Total DL (Bytes)', 'total_bytes']]\n",
    "c = byte.groupby('MSISDN/Number').sum()\n",
    "c.head()"
   ]
  },
  {
   "cell_type": "code",
   "execution_count": 34,
   "metadata": {},
   "outputs": [
    {
     "data": {
      "text/plain": [
       "Text(0.5, 1.0, 'A sample of users upload, download and total bytes')"
      ]
     },
     "execution_count": 34,
     "metadata": {},
     "output_type": "execute_result"
    },
    {
     "data": {
      "image/png": "[encoded data removed]",
      "text/plain": [
       "<Figure size 720x864 with 1 Axes>"
      ]
     },
     "metadata": {
      "needs_background": "light"
     },
     "output_type": "display_data"
    }
   ],
   "source": [
    "# plotting a sample of the data\n",
    "t = c.sample(10)\n",
    "pos = list(range(len(t['Total UL (Bytes)'])))\n",
    "width = 0.25\n",
    "fig, ax = plt.subplots(figsize=(10,12))\n",
    "plt.bar(pos, t['Total UL (Bytes)'], width, alpha=0.5, color='b')\n",
    "plt.bar([p + width for p in pos], t['Total DL (Bytes)'], width, alpha=0.5, color='r')\n",
    "plt.bar([p + width*2 for p in pos], t['total_bytes'], width, alpha=0.5, color='g')\n",
    "ax.set_ylabel('bytes')\n",
    "ax.set_title('Bytes data per user')\n",
    "ax.set_xticks([p + 1.5 * width for p in pos])\n",
    "ax.set_xticklabels(c.index)\n",
    "plt.xticks(rotation = 45)\n",
    "\n",
    "plt.xlim(min(pos)-width, max(pos)+width*4)\n",
    "plt.ylim([0, max(t['Total UL (Bytes)'] + t['Total DL (Bytes)'] + t['total_bytes'])] )\n",
    "plt.legend(['Upload Bytes', 'Download Bytes', 'Total Bytes'], loc='upper left')\n",
    "plt.grid()\n",
    "plt.title('A sample of users upload, download and total bytes')"
   ]
  },
  {
   "cell_type": "markdown",
   "metadata": {},
   "source": [
    "Upload bytes are less than download bytes."
   ]
  },
  {
   "cell_type": "markdown",
   "metadata": {},
   "source": [
    "4. The total data volume (in Bytes) during this session for each application"
   ]
  },
  {
   "cell_type": "code",
   "execution_count": 35,
   "metadata": {},
   "outputs": [
    {
     "data": {
      "text/html": [
       "<div>\n",
       "<style scoped>\n",
       "    .dataframe tbody tr th:only-of-type {\n",
       "        vertical-align: middle;\n",
       "    }\n",
       "\n",
       "    .dataframe tbody tr th {\n",
       "        vertical-align: top;\n",
       "    }\n",
       "\n",
       "    .dataframe thead th {\n",
       "        text-align: right;\n",
       "    }\n",
       "</style>\n",
       "<table border=\"1\" class=\"dataframe\">\n",
       "  <thead>\n",
       "    <tr style=\"text-align: right;\">\n",
       "      <th></th>\n",
       "      <th>social_media</th>\n",
       "      <th>google</th>\n",
       "      <th>email</th>\n",
       "      <th>youtube</th>\n",
       "      <th>netflix</th>\n",
       "      <th>gaming</th>\n",
       "      <th>other</th>\n",
       "    </tr>\n",
       "    <tr>\n",
       "      <th>MSISDN/Number</th>\n",
       "      <th></th>\n",
       "      <th></th>\n",
       "      <th></th>\n",
       "      <th></th>\n",
       "      <th></th>\n",
       "      <th></th>\n",
       "      <th></th>\n",
       "    </tr>\n",
       "  </thead>\n",
       "  <tbody>\n",
       "    <tr>\n",
       "      <th>3.360100e+10</th>\n",
       "      <td>2232135.0</td>\n",
       "      <td>4389005.0</td>\n",
       "      <td>1331362.0</td>\n",
       "      <td>21624548.0</td>\n",
       "      <td>27180981.0</td>\n",
       "      <td>8.124587e+08</td>\n",
       "      <td>386570872.0</td>\n",
       "    </tr>\n",
       "    <tr>\n",
       "      <th>3.360100e+10</th>\n",
       "      <td>2660565.0</td>\n",
       "      <td>5334863.0</td>\n",
       "      <td>3307781.0</td>\n",
       "      <td>12432223.0</td>\n",
       "      <td>11221763.0</td>\n",
       "      <td>1.197501e+08</td>\n",
       "      <td>281710071.0</td>\n",
       "    </tr>\n",
       "    <tr>\n",
       "      <th>3.360100e+10</th>\n",
       "      <td>3195623.0</td>\n",
       "      <td>3443126.0</td>\n",
       "      <td>3205380.0</td>\n",
       "      <td>21333570.0</td>\n",
       "      <td>19353900.0</td>\n",
       "      <td>5.388277e+08</td>\n",
       "      <td>501693672.0</td>\n",
       "    </tr>\n",
       "    <tr>\n",
       "      <th>3.360101e+10</th>\n",
       "      <td>280294.0</td>\n",
       "      <td>9678493.0</td>\n",
       "      <td>2284670.0</td>\n",
       "      <td>6977321.0</td>\n",
       "      <td>1942092.0</td>\n",
       "      <td>3.911261e+08</td>\n",
       "      <td>35279702.0</td>\n",
       "    </tr>\n",
       "    <tr>\n",
       "      <th>3.360101e+10</th>\n",
       "      <td>2912542.0</td>\n",
       "      <td>18499616.0</td>\n",
       "      <td>3305469.0</td>\n",
       "      <td>41533002.0</td>\n",
       "      <td>49201724.0</td>\n",
       "      <td>1.314798e+09</td>\n",
       "      <td>804804484.0</td>\n",
       "    </tr>\n",
       "  </tbody>\n",
       "</table>\n",
       "</div>"
      ],
      "text/plain": [
       "               social_media      google      email     youtube     netflix  \\\n",
       "MSISDN/Number                                                                \n",
       "3.360100e+10      2232135.0   4389005.0  1331362.0  21624548.0  27180981.0   \n",
       "3.360100e+10      2660565.0   5334863.0  3307781.0  12432223.0  11221763.0   \n",
       "3.360100e+10      3195623.0   3443126.0  3205380.0  21333570.0  19353900.0   \n",
       "3.360101e+10       280294.0   9678493.0  2284670.0   6977321.0   1942092.0   \n",
       "3.360101e+10      2912542.0  18499616.0  3305469.0  41533002.0  49201724.0   \n",
       "\n",
       "                     gaming        other  \n",
       "MSISDN/Number                             \n",
       "3.360100e+10   8.124587e+08  386570872.0  \n",
       "3.360100e+10   1.197501e+08  281710071.0  \n",
       "3.360100e+10   5.388277e+08  501693672.0  \n",
       "3.360101e+10   3.911261e+08   35279702.0  \n",
       "3.360101e+10   1.314798e+09  804804484.0  "
      ]
     },
     "execution_count": 35,
     "metadata": {},
     "output_type": "execute_result"
    }
   ],
   "source": [
    "# I had already created total bytes columns for all the applications.\n",
    "apps = data[['MSISDN/Number','social_media', 'google', 'email', 'youtube', 'netflix', 'gaming', 'other']]\n",
    "d = apps.groupby('MSISDN/Number').sum()\n",
    "d.head()"
   ]
  },
  {
   "cell_type": "code",
   "execution_count": 36,
   "metadata": {},
   "outputs": [],
   "source": [
    "# sns.barplot(x=d.index.head(), y=, hue='variable', data=df1)\n",
    "# plt.xticks(rotation=90)\n",
    "# plt.ylabel('Returns')\n",
    "# plt.title('Portfolio vs Benchmark Returns');"
   ]
  },
  {
   "cell_type": "markdown",
   "metadata": {},
   "source": [
    "## Non-Graphical Univariate Analysis\n",
    "\n",
    "Variables of interest: Number of xDR sessions,  Session duration,  the total download (DL) and upload (UL) data , the total data volume (in Bytes) during this session for each application (Social Media, Google, Email, YouTube, Netflix, Gaming)."
   ]
  },
  {
   "cell_type": "markdown",
   "metadata": {},
   "source": [
    "### Dispersion and Central Tendency"
   ]
  },
  {
   "cell_type": "code",
   "execution_count": 37,
   "metadata": {},
   "outputs": [
    {
     "data": {
      "text/html": [
       "<div>\n",
       "<style scoped>\n",
       "    .dataframe tbody tr th:only-of-type {\n",
       "        vertical-align: middle;\n",
       "    }\n",
       "\n",
       "    .dataframe tbody tr th {\n",
       "        vertical-align: top;\n",
       "    }\n",
       "\n",
       "    .dataframe thead th {\n",
       "        text-align: right;\n",
       "    }\n",
       "</style>\n",
       "<table border=\"1\" class=\"dataframe\">\n",
       "  <thead>\n",
       "    <tr style=\"text-align: right;\">\n",
       "      <th></th>\n",
       "      <th>Start ms</th>\n",
       "      <th>End ms</th>\n",
       "      <th>Dur. (ms)</th>\n",
       "      <th>IMSI</th>\n",
       "      <th>MSISDN/Number</th>\n",
       "      <th>IMEI</th>\n",
       "      <th>Avg RTT DL (ms)</th>\n",
       "      <th>Avg RTT UL (ms)</th>\n",
       "      <th>Avg Bearer TP DL (kbps)</th>\n",
       "      <th>Avg Bearer TP UL (kbps)</th>\n",
       "      <th>...</th>\n",
       "      <th>email</th>\n",
       "      <th>google</th>\n",
       "      <th>youtube</th>\n",
       "      <th>netflix</th>\n",
       "      <th>gaming</th>\n",
       "      <th>other</th>\n",
       "      <th>Last Location Name_encoded</th>\n",
       "      <th>Handset Type_encoded</th>\n",
       "      <th>Handset Manufacturer_encoded</th>\n",
       "      <th>Bearer Id_encoded</th>\n",
       "    </tr>\n",
       "  </thead>\n",
       "  <tbody>\n",
       "    <tr>\n",
       "      <th>count</th>\n",
       "      <td>150001.000000</td>\n",
       "      <td>150001.000000</td>\n",
       "      <td>1.500010e+05</td>\n",
       "      <td>1.500010e+05</td>\n",
       "      <td>1.500010e+05</td>\n",
       "      <td>1.500010e+05</td>\n",
       "      <td>150001.000000</td>\n",
       "      <td>150001.000000</td>\n",
       "      <td>150001.000000</td>\n",
       "      <td>150001.000000</td>\n",
       "      <td>...</td>\n",
       "      <td>1.500010e+05</td>\n",
       "      <td>1.500010e+05</td>\n",
       "      <td>1.500010e+05</td>\n",
       "      <td>1.500010e+05</td>\n",
       "      <td>1.500010e+05</td>\n",
       "      <td>1.500010e+05</td>\n",
       "      <td>150001.000000</td>\n",
       "      <td>150001.000000</td>\n",
       "      <td>150001.000000</td>\n",
       "      <td>150001.000000</td>\n",
       "    </tr>\n",
       "    <tr>\n",
       "      <th>mean</th>\n",
       "      <td>499.188200</td>\n",
       "      <td>498.800880</td>\n",
       "      <td>1.046086e+05</td>\n",
       "      <td>2.082016e+14</td>\n",
       "      <td>4.188282e+10</td>\n",
       "      <td>4.847455e+13</td>\n",
       "      <td>109.795706</td>\n",
       "      <td>17.662883</td>\n",
       "      <td>13300.045927</td>\n",
       "      <td>1770.428647</td>\n",
       "      <td>...</td>\n",
       "      <td>2.259102e+06</td>\n",
       "      <td>7.807295e+06</td>\n",
       "      <td>2.264348e+07</td>\n",
       "      <td>2.262861e+07</td>\n",
       "      <td>4.303331e+08</td>\n",
       "      <td>4.293653e+08</td>\n",
       "      <td>20292.245385</td>\n",
       "      <td>474.000153</td>\n",
       "      <td>56.709102</td>\n",
       "      <td>64121.558930</td>\n",
       "    </tr>\n",
       "    <tr>\n",
       "      <th>std</th>\n",
       "      <td>288.610872</td>\n",
       "      <td>288.096693</td>\n",
       "      <td>8.103735e+04</td>\n",
       "      <td>2.144722e+10</td>\n",
       "      <td>2.438731e+12</td>\n",
       "      <td>2.237359e+13</td>\n",
       "      <td>559.342620</td>\n",
       "      <td>76.529933</td>\n",
       "      <td>23971.798635</td>\n",
       "      <td>4625.340082</td>\n",
       "      <td>...</td>\n",
       "      <td>1.071109e+06</td>\n",
       "      <td>3.516420e+06</td>\n",
       "      <td>9.246800e+06</td>\n",
       "      <td>9.260820e+06</td>\n",
       "      <td>2.440199e+08</td>\n",
       "      <td>2.432681e+08</td>\n",
       "      <td>12892.829812</td>\n",
       "      <td>437.009646</td>\n",
       "      <td>51.461184</td>\n",
       "      <td>39291.948357</td>\n",
       "    </tr>\n",
       "    <tr>\n",
       "      <th>min</th>\n",
       "      <td>0.000000</td>\n",
       "      <td>0.000000</td>\n",
       "      <td>7.142000e+03</td>\n",
       "      <td>2.040471e+14</td>\n",
       "      <td>3.360100e+10</td>\n",
       "      <td>4.400152e+11</td>\n",
       "      <td>0.000000</td>\n",
       "      <td>0.000000</td>\n",
       "      <td>0.000000</td>\n",
       "      <td>0.000000</td>\n",
       "      <td>...</td>\n",
       "      <td>8.359000e+03</td>\n",
       "      <td>4.033000e+04</td>\n",
       "      <td>7.890300e+04</td>\n",
       "      <td>9.843200e+04</td>\n",
       "      <td>3.063580e+05</td>\n",
       "      <td>1.490450e+05</td>\n",
       "      <td>0.000000</td>\n",
       "      <td>0.000000</td>\n",
       "      <td>0.000000</td>\n",
       "      <td>0.000000</td>\n",
       "    </tr>\n",
       "    <tr>\n",
       "      <th>25%</th>\n",
       "      <td>250.000000</td>\n",
       "      <td>251.000000</td>\n",
       "      <td>5.744200e+04</td>\n",
       "      <td>2.082014e+14</td>\n",
       "      <td>3.365151e+10</td>\n",
       "      <td>3.546261e+13</td>\n",
       "      <td>35.000000</td>\n",
       "      <td>3.000000</td>\n",
       "      <td>43.000000</td>\n",
       "      <td>47.000000</td>\n",
       "      <td>...</td>\n",
       "      <td>1.359344e+06</td>\n",
       "      <td>4.943599e+06</td>\n",
       "      <td>1.599846e+07</td>\n",
       "      <td>1.597946e+07</td>\n",
       "      <td>2.187279e+08</td>\n",
       "      <td>2.185534e+08</td>\n",
       "      <td>9185.000000</td>\n",
       "      <td>66.000000</td>\n",
       "      <td>5.000000</td>\n",
       "      <td>29222.000000</td>\n",
       "    </tr>\n",
       "    <tr>\n",
       "      <th>50%</th>\n",
       "      <td>499.000000</td>\n",
       "      <td>500.000000</td>\n",
       "      <td>8.639900e+04</td>\n",
       "      <td>2.082015e+14</td>\n",
       "      <td>3.366380e+10</td>\n",
       "      <td>3.572241e+13</td>\n",
       "      <td>54.000000</td>\n",
       "      <td>7.000000</td>\n",
       "      <td>63.000000</td>\n",
       "      <td>63.000000</td>\n",
       "      <td>...</td>\n",
       "      <td>2.263567e+06</td>\n",
       "      <td>7.812835e+06</td>\n",
       "      <td>2.266177e+07</td>\n",
       "      <td>2.263554e+07</td>\n",
       "      <td>4.316150e+08</td>\n",
       "      <td>4.299865e+08</td>\n",
       "      <td>17836.000000</td>\n",
       "      <td>316.000000</td>\n",
       "      <td>52.000000</td>\n",
       "      <td>61730.000000</td>\n",
       "    </tr>\n",
       "    <tr>\n",
       "      <th>75%</th>\n",
       "      <td>749.000000</td>\n",
       "      <td>750.000000</td>\n",
       "      <td>1.324300e+05</td>\n",
       "      <td>2.082018e+14</td>\n",
       "      <td>3.368473e+10</td>\n",
       "      <td>8.611970e+13</td>\n",
       "      <td>109.795706</td>\n",
       "      <td>17.662883</td>\n",
       "      <td>19710.000000</td>\n",
       "      <td>1120.000000</td>\n",
       "      <td>...</td>\n",
       "      <td>3.159818e+06</td>\n",
       "      <td>1.068280e+07</td>\n",
       "      <td>2.929260e+07</td>\n",
       "      <td>2.929044e+07</td>\n",
       "      <td>6.414159e+08</td>\n",
       "      <td>6.399275e+08</td>\n",
       "      <td>31038.000000</td>\n",
       "      <td>888.000000</td>\n",
       "      <td>103.000000</td>\n",
       "      <td>98191.000000</td>\n",
       "    </tr>\n",
       "    <tr>\n",
       "      <th>max</th>\n",
       "      <td>999.000000</td>\n",
       "      <td>999.000000</td>\n",
       "      <td>1.859336e+06</td>\n",
       "      <td>2.140743e+14</td>\n",
       "      <td>8.823971e+14</td>\n",
       "      <td>9.900120e+13</td>\n",
       "      <td>96923.000000</td>\n",
       "      <td>7120.000000</td>\n",
       "      <td>378160.000000</td>\n",
       "      <td>58613.000000</td>\n",
       "      <td>...</td>\n",
       "      <td>4.518036e+06</td>\n",
       "      <td>1.552878e+07</td>\n",
       "      <td>4.519008e+07</td>\n",
       "      <td>4.519815e+07</td>\n",
       "      <td>8.592028e+08</td>\n",
       "      <td>8.595209e+08</td>\n",
       "      <td>45547.000000</td>\n",
       "      <td>1396.000000</td>\n",
       "      <td>170.000000</td>\n",
       "      <td>134708.000000</td>\n",
       "    </tr>\n",
       "  </tbody>\n",
       "</table>\n",
       "<p>8 rows × 61 columns</p>\n",
       "</div>"
      ],
      "text/plain": [
       "            Start ms         End ms     Dur. (ms)          IMSI  \\\n",
       "count  150001.000000  150001.000000  1.500010e+05  1.500010e+05   \n",
       "mean      499.188200     498.800880  1.046086e+05  2.082016e+14   \n",
       "std       288.610872     288.096693  8.103735e+04  2.144722e+10   \n",
       "min         0.000000       0.000000  7.142000e+03  2.040471e+14   \n",
       "25%       250.000000     251.000000  5.744200e+04  2.082014e+14   \n",
       "50%       499.000000     500.000000  8.639900e+04  2.082015e+14   \n",
       "75%       749.000000     750.000000  1.324300e+05  2.082018e+14   \n",
       "max       999.000000     999.000000  1.859336e+06  2.140743e+14   \n",
       "\n",
       "       MSISDN/Number          IMEI  Avg RTT DL (ms)  Avg RTT UL (ms)  \\\n",
       "count   1.500010e+05  1.500010e+05    150001.000000    150001.000000   \n",
       "mean    4.188282e+10  4.847455e+13       109.795706        17.662883   \n",
       "std     2.438731e+12  2.237359e+13       559.342620        76.529933   \n",
       "min     3.360100e+10  4.400152e+11         0.000000         0.000000   \n",
       "25%     3.365151e+10  3.546261e+13        35.000000         3.000000   \n",
       "50%     3.366380e+10  3.572241e+13        54.000000         7.000000   \n",
       "75%     3.368473e+10  8.611970e+13       109.795706        17.662883   \n",
       "max     8.823971e+14  9.900120e+13     96923.000000      7120.000000   \n",
       "\n",
       "       Avg Bearer TP DL (kbps)  Avg Bearer TP UL (kbps)  ...         email  \\\n",
       "count            150001.000000            150001.000000  ...  1.500010e+05   \n",
       "mean              13300.045927              1770.428647  ...  2.259102e+06   \n",
       "std               23971.798635              4625.340082  ...  1.071109e+06   \n",
       "min                   0.000000                 0.000000  ...  8.359000e+03   \n",
       "25%                  43.000000                47.000000  ...  1.359344e+06   \n",
       "50%                  63.000000                63.000000  ...  2.263567e+06   \n",
       "75%               19710.000000              1120.000000  ...  3.159818e+06   \n",
       "max              378160.000000             58613.000000  ...  4.518036e+06   \n",
       "\n",
       "             google       youtube       netflix        gaming         other  \\\n",
       "count  1.500010e+05  1.500010e+05  1.500010e+05  1.500010e+05  1.500010e+05   \n",
       "mean   7.807295e+06  2.264348e+07  2.262861e+07  4.303331e+08  4.293653e+08   \n",
       "std    3.516420e+06  9.246800e+06  9.260820e+06  2.440199e+08  2.432681e+08   \n",
       "min    4.033000e+04  7.890300e+04  9.843200e+04  3.063580e+05  1.490450e+05   \n",
       "25%    4.943599e+06  1.599846e+07  1.597946e+07  2.187279e+08  2.185534e+08   \n",
       "50%    7.812835e+06  2.266177e+07  2.263554e+07  4.316150e+08  4.299865e+08   \n",
       "75%    1.068280e+07  2.929260e+07  2.929044e+07  6.414159e+08  6.399275e+08   \n",
       "max    1.552878e+07  4.519008e+07  4.519815e+07  8.592028e+08  8.595209e+08   \n",
       "\n",
       "       Last Location Name_encoded  Handset Type_encoded  \\\n",
       "count               150001.000000         150001.000000   \n",
       "mean                 20292.245385            474.000153   \n",
       "std                  12892.829812            437.009646   \n",
       "min                      0.000000              0.000000   \n",
       "25%                   9185.000000             66.000000   \n",
       "50%                  17836.000000            316.000000   \n",
       "75%                  31038.000000            888.000000   \n",
       "max                  45547.000000           1396.000000   \n",
       "\n",
       "       Handset Manufacturer_encoded  Bearer Id_encoded  \n",
       "count                 150001.000000      150001.000000  \n",
       "mean                      56.709102       64121.558930  \n",
       "std                       51.461184       39291.948357  \n",
       "min                        0.000000           0.000000  \n",
       "25%                        5.000000       29222.000000  \n",
       "50%                       52.000000       61730.000000  \n",
       "75%                      103.000000       98191.000000  \n",
       "max                      170.000000      134708.000000  \n",
       "\n",
       "[8 rows x 61 columns]"
      ]
     },
     "execution_count": 37,
     "metadata": {},
     "output_type": "execute_result"
    }
   ],
   "source": [
    "data.describe()"
   ]
  },
  {
   "cell_type": "code",
   "execution_count": 38,
   "metadata": {},
   "outputs": [
    {
     "data": {
      "text/html": [
       "<div>\n",
       "<style scoped>\n",
       "    .dataframe tbody tr th:only-of-type {\n",
       "        vertical-align: middle;\n",
       "    }\n",
       "\n",
       "    .dataframe tbody tr th {\n",
       "        vertical-align: top;\n",
       "    }\n",
       "\n",
       "    .dataframe thead th {\n",
       "        text-align: right;\n",
       "    }\n",
       "</style>\n",
       "<table border=\"1\" class=\"dataframe\">\n",
       "  <thead>\n",
       "    <tr style=\"text-align: right;\">\n",
       "      <th></th>\n",
       "      <th>Dur. (ms).1</th>\n",
       "      <th>Total UL (Bytes)</th>\n",
       "      <th>Total DL (Bytes)</th>\n",
       "      <th>social_media</th>\n",
       "      <th>netflix</th>\n",
       "      <th>gaming</th>\n",
       "      <th>youtube</th>\n",
       "      <th>google</th>\n",
       "      <th>email</th>\n",
       "      <th>other</th>\n",
       "    </tr>\n",
       "  </thead>\n",
       "  <tbody>\n",
       "    <tr>\n",
       "      <th>count</th>\n",
       "      <td>1.500010e+05</td>\n",
       "      <td>1.500010e+05</td>\n",
       "      <td>1.500010e+05</td>\n",
       "      <td>1.500010e+05</td>\n",
       "      <td>1.500010e+05</td>\n",
       "      <td>1.500010e+05</td>\n",
       "      <td>1.500010e+05</td>\n",
       "      <td>1.500010e+05</td>\n",
       "      <td>1.500010e+05</td>\n",
       "      <td>1.500010e+05</td>\n",
       "    </tr>\n",
       "    <tr>\n",
       "      <th>mean</th>\n",
       "      <td>1.046091e+08</td>\n",
       "      <td>4.112121e+07</td>\n",
       "      <td>4.546434e+08</td>\n",
       "      <td>1.828250e+06</td>\n",
       "      <td>2.262861e+07</td>\n",
       "      <td>4.303331e+08</td>\n",
       "      <td>2.264348e+07</td>\n",
       "      <td>7.807295e+06</td>\n",
       "      <td>2.259102e+06</td>\n",
       "      <td>4.293653e+08</td>\n",
       "    </tr>\n",
       "    <tr>\n",
       "      <th>std</th>\n",
       "      <td>8.103734e+07</td>\n",
       "      <td>1.127635e+07</td>\n",
       "      <td>2.441421e+08</td>\n",
       "      <td>1.035646e+06</td>\n",
       "      <td>9.260820e+06</td>\n",
       "      <td>2.440199e+08</td>\n",
       "      <td>9.246800e+06</td>\n",
       "      <td>3.516420e+06</td>\n",
       "      <td>1.071109e+06</td>\n",
       "      <td>2.432681e+08</td>\n",
       "    </tr>\n",
       "    <tr>\n",
       "      <th>min</th>\n",
       "      <td>7.142988e+06</td>\n",
       "      <td>2.866892e+06</td>\n",
       "      <td>7.114041e+06</td>\n",
       "      <td>1.563000e+03</td>\n",
       "      <td>9.843200e+04</td>\n",
       "      <td>3.063580e+05</td>\n",
       "      <td>7.890300e+04</td>\n",
       "      <td>4.033000e+04</td>\n",
       "      <td>8.359000e+03</td>\n",
       "      <td>1.490450e+05</td>\n",
       "    </tr>\n",
       "    <tr>\n",
       "      <th>25%</th>\n",
       "      <td>5.744206e+07</td>\n",
       "      <td>3.322203e+07</td>\n",
       "      <td>2.431072e+08</td>\n",
       "      <td>9.322180e+05</td>\n",
       "      <td>1.597946e+07</td>\n",
       "      <td>2.187279e+08</td>\n",
       "      <td>1.599846e+07</td>\n",
       "      <td>4.943599e+06</td>\n",
       "      <td>1.359344e+06</td>\n",
       "      <td>2.185534e+08</td>\n",
       "    </tr>\n",
       "    <tr>\n",
       "      <th>50%</th>\n",
       "      <td>8.639998e+07</td>\n",
       "      <td>4.114324e+07</td>\n",
       "      <td>4.558409e+08</td>\n",
       "      <td>1.826471e+06</td>\n",
       "      <td>2.263554e+07</td>\n",
       "      <td>4.316150e+08</td>\n",
       "      <td>2.266177e+07</td>\n",
       "      <td>7.812835e+06</td>\n",
       "      <td>2.263567e+06</td>\n",
       "      <td>4.299865e+08</td>\n",
       "    </tr>\n",
       "    <tr>\n",
       "      <th>75%</th>\n",
       "      <td>1.324307e+08</td>\n",
       "      <td>4.903424e+07</td>\n",
       "      <td>6.657051e+08</td>\n",
       "      <td>2.727487e+06</td>\n",
       "      <td>2.929044e+07</td>\n",
       "      <td>6.414159e+08</td>\n",
       "      <td>2.929260e+07</td>\n",
       "      <td>1.068280e+07</td>\n",
       "      <td>3.159818e+06</td>\n",
       "      <td>6.399275e+08</td>\n",
       "    </tr>\n",
       "    <tr>\n",
       "      <th>max</th>\n",
       "      <td>1.859336e+09</td>\n",
       "      <td>7.833131e+07</td>\n",
       "      <td>9.029696e+08</td>\n",
       "      <td>3.650861e+06</td>\n",
       "      <td>4.519815e+07</td>\n",
       "      <td>8.592028e+08</td>\n",
       "      <td>4.519008e+07</td>\n",
       "      <td>1.552878e+07</td>\n",
       "      <td>4.518036e+06</td>\n",
       "      <td>8.595209e+08</td>\n",
       "    </tr>\n",
       "  </tbody>\n",
       "</table>\n",
       "</div>"
      ],
      "text/plain": [
       "        Dur. (ms).1  Total UL (Bytes)  Total DL (Bytes)  social_media  \\\n",
       "count  1.500010e+05      1.500010e+05      1.500010e+05  1.500010e+05   \n",
       "mean   1.046091e+08      4.112121e+07      4.546434e+08  1.828250e+06   \n",
       "std    8.103734e+07      1.127635e+07      2.441421e+08  1.035646e+06   \n",
       "min    7.142988e+06      2.866892e+06      7.114041e+06  1.563000e+03   \n",
       "25%    5.744206e+07      3.322203e+07      2.431072e+08  9.322180e+05   \n",
       "50%    8.639998e+07      4.114324e+07      4.558409e+08  1.826471e+06   \n",
       "75%    1.324307e+08      4.903424e+07      6.657051e+08  2.727487e+06   \n",
       "max    1.859336e+09      7.833131e+07      9.029696e+08  3.650861e+06   \n",
       "\n",
       "            netflix        gaming       youtube        google         email  \\\n",
       "count  1.500010e+05  1.500010e+05  1.500010e+05  1.500010e+05  1.500010e+05   \n",
       "mean   2.262861e+07  4.303331e+08  2.264348e+07  7.807295e+06  2.259102e+06   \n",
       "std    9.260820e+06  2.440199e+08  9.246800e+06  3.516420e+06  1.071109e+06   \n",
       "min    9.843200e+04  3.063580e+05  7.890300e+04  4.033000e+04  8.359000e+03   \n",
       "25%    1.597946e+07  2.187279e+08  1.599846e+07  4.943599e+06  1.359344e+06   \n",
       "50%    2.263554e+07  4.316150e+08  2.266177e+07  7.812835e+06  2.263567e+06   \n",
       "75%    2.929044e+07  6.414159e+08  2.929260e+07  1.068280e+07  3.159818e+06   \n",
       "max    4.519815e+07  8.592028e+08  4.519008e+07  1.552878e+07  4.518036e+06   \n",
       "\n",
       "              other  \n",
       "count  1.500010e+05  \n",
       "mean   4.293653e+08  \n",
       "std    2.432681e+08  \n",
       "min    1.490450e+05  \n",
       "25%    2.185534e+08  \n",
       "50%    4.299865e+08  \n",
       "75%    6.399275e+08  \n",
       "max    8.595209e+08  "
      ]
     },
     "execution_count": 38,
     "metadata": {},
     "output_type": "execute_result"
    }
   ],
   "source": [
    "variables = data[['Bearer Id', 'Dur. (ms).1', 'Total UL (Bytes)', 'Total DL (Bytes)', 'social_media', 'netflix', 'gaming', 'youtube', 'google', 'email', 'other']]\n",
    "variables.describe()"
   ]
  },
  {
   "cell_type": "code",
   "execution_count": 39,
   "metadata": {},
   "outputs": [
    {
     "data": {
      "text/plain": [
       "134709"
      ]
     },
     "execution_count": 39,
     "metadata": {},
     "output_type": "execute_result"
    }
   ],
   "source": [
    "data['Bearer Id'].nunique()"
   ]
  },
  {
   "cell_type": "code",
   "execution_count": 40,
   "metadata": {},
   "outputs": [
    {
     "data": {
      "text/html": [
       "<div>\n",
       "<style scoped>\n",
       "    .dataframe tbody tr th:only-of-type {\n",
       "        vertical-align: middle;\n",
       "    }\n",
       "\n",
       "    .dataframe tbody tr th {\n",
       "        vertical-align: top;\n",
       "    }\n",
       "\n",
       "    .dataframe thead th {\n",
       "        text-align: right;\n",
       "    }\n",
       "</style>\n",
       "<table border=\"1\" class=\"dataframe\">\n",
       "  <thead>\n",
       "    <tr style=\"text-align: right;\">\n",
       "      <th></th>\n",
       "      <th>Dur. (ms).1</th>\n",
       "      <th>Total UL (Bytes)</th>\n",
       "      <th>Total DL (Bytes)</th>\n",
       "      <th>social_media</th>\n",
       "      <th>netflix</th>\n",
       "      <th>gaming</th>\n",
       "      <th>youtube</th>\n",
       "      <th>google</th>\n",
       "      <th>email</th>\n",
       "      <th>other</th>\n",
       "    </tr>\n",
       "  </thead>\n",
       "  <tbody>\n",
       "    <tr>\n",
       "      <th>skewness</th>\n",
       "      <td>3.952622</td>\n",
       "      <td>-0.002456</td>\n",
       "      <td>-0.003153</td>\n",
       "      <td>-0.002121</td>\n",
       "      <td>-0.000409</td>\n",
       "      <td>-0.003225</td>\n",
       "      <td>-0.005465</td>\n",
       "      <td>-0.010602</td>\n",
       "      <td>-0.006033</td>\n",
       "      <td>0.001256</td>\n",
       "    </tr>\n",
       "    <tr>\n",
       "      <th>kurtosis</th>\n",
       "      <td>37.022470</td>\n",
       "      <td>-0.327436</td>\n",
       "      <td>-1.198363</td>\n",
       "      <td>-1.202178</td>\n",
       "      <td>-0.608472</td>\n",
       "      <td>-1.202256</td>\n",
       "      <td>-0.604624</td>\n",
       "      <td>-0.963035</td>\n",
       "      <td>-1.061696</td>\n",
       "      <td>-1.196015</td>\n",
       "    </tr>\n",
       "  </tbody>\n",
       "</table>\n",
       "</div>"
      ],
      "text/plain": [
       "          Dur. (ms).1  Total UL (Bytes)  Total DL (Bytes)  social_media  \\\n",
       "skewness     3.952622         -0.002456         -0.003153     -0.002121   \n",
       "kurtosis    37.022470         -0.327436         -1.198363     -1.202178   \n",
       "\n",
       "           netflix    gaming   youtube    google     email     other  \n",
       "skewness -0.000409 -0.003225 -0.005465 -0.010602 -0.006033  0.001256  \n",
       "kurtosis -0.608472 -1.202256 -0.604624 -0.963035 -1.061696 -1.196015  "
      ]
     },
     "execution_count": 40,
     "metadata": {},
     "output_type": "execute_result"
    }
   ],
   "source": [
    "# skewness and kurtosis\n",
    "s = variables.skew(axis = 0, skipna = True) \n",
    "k = variables.kurt(axis = 0, skipna = True) \n",
    "pd.DataFrame([s, k], index = ['skewness', 'kurtosis'])"
   ]
  },
  {
   "cell_type": "markdown",
   "metadata": {},
   "source": [
    "Current variables of interest: Number of s, Session duration, the total download (DL) and upload (UL) data , the total data volume (in Bytes) during this session for each application (Social Media, Google, Email, YouTube, Netflix, Gaming).**\n",
    "\n",
    "\n",
    "1. **Bearer Id** ~ This is the session identifier, thus not quantitative. It has 134709 instances thus the recorded number of xDR sessions are 134709.\n",
    "2. **Dur. (ms).1** ~ This is the total duration of an xDR session in micro seconds. Across the 134709 sessions, it has the following measures:\n",
    "    * Average:          \t1.046091e+08\n",
    "    * Standard Deviation: \t8.103734e+07\n",
    "    * Minimum Value:     \t7.142988e+06 \t\n",
    "    * Lower Quartile    \t5.744206e+07 \t\n",
    "    * Median            \t8.639998e+07 \t \n",
    "    * Upper Quartile     \t1.324307e+08\n",
    "    * Maximum Value:    \t1.859336e+09 \t\t\n",
    "    \n",
    "    \n",
    "3. **Total UL (Bytes)** ~ Data volume in bytes sent during this session. Across the 134709 sessions, it has the following measures:\n",
    "    * Average:          \t4.112121e+07\n",
    "    * Standard Deviation: \t1.127635e+07  \n",
    "    * Minimum Value:     \t2.866892e+06 \n",
    "    * Lower Quartile    \t3.322203e+07 \n",
    "    * Median            \t4.558409e+08\n",
    "    * Upper Quartile     \t4.903424e+07 \n",
    "    * Maximum Value:    \t7.833131e+07 \n",
    "    \n",
    "    \n",
    "4. **Total DL (Bytes)** ~ Data volume in bytes received during this session. Across the 134709 sessions, it has the following measures:\n",
    "    * Average:          \t4.546434e+085\n",
    "    * Standard Deviation: \t2.441421e+08 \n",
    "    * Minimum Value:     \t7.114041e+06 \n",
    "    * Lower Quartile    \t2.431072e+08 \n",
    "    * Median            \t1.826471e+06 \n",
    "    * Upper Quartile     \t6.657051e+08 \n",
    "    * Maximum Value:    \t9.029696e+08  \n",
    "    \n",
    "    \n",
    "5. **social_media** ~ Total social media data volume sent and received by the MS during this session. Across the 134709 sessions, it has the following measures:\n",
    "    * Average:          \t1.828250e+06\n",
    "    * Standard Deviation: \t1.035646e+06\n",
    "    * Minimum Value:     \t1.563000e+03\n",
    "    * Lower Quartile    \t9.322180e+05\n",
    "    * Median            \t8.639900e+04\n",
    "    * Upper Quartile     \t2.727487e+06 \n",
    "    * Maximum Value:    \t3.650861e+06 \n",
    "   \n",
    "   \n",
    "   \n",
    "6. **netflix** ~ Total netflix data volume sent and received by the MS during this session. Across the 134709 sessions, it has the following measures:\n",
    "    * Average:          \t2.262861e+07 \n",
    "    * Standard Deviation: \t9.260820e+06 \n",
    "    * Minimum Value:     \t9.843200e+04 \n",
    "    * Lower Quartile    \t1.597946e+07\n",
    "    * Median            \t2.263554e+07 \n",
    "    * Upper Quartile     \t2.929044e+07 \n",
    "    * Maximum Value:    \t4.519815e+07 \n",
    "    \n",
    "    \n",
    "7. **gaming** ~ Total gaming data volume sent and received by the MS during this session. Across the 134709 sessions, it has the following measures:\n",
    "    * Average:          \t4.303331e+08 \n",
    "    * Standard Deviation: \t2.440199e+08 \n",
    "    * Minimum Value:     \t3.063580e+05\n",
    "    * Lower Quartile    \t2.187279e+08\n",
    "    * Median            \t4.316150e+08 \n",
    "    * Upper Quartile     \t6.414159e+08 \n",
    "    * Maximum Value:    \t8.592028e+08 \n",
    "    \n",
    "    \n",
    "8. **youtube)** ~ Total youtube data volume sent and received by the MS during this session. Across the 134709 sessions, it has the following measures:\n",
    "    * Average:          \t2.264348e+07 \n",
    "    * Standard Deviation: \t9.246800e+06 \n",
    "    * Minimum Value:     \t7.890300e+04\n",
    "    * Lower Quartile    \t1.599846e+07 \n",
    "    * Median            \t2.266177e+07\n",
    "    * Upper Quartile     \t2.929260e+07\n",
    "    * Maximum Value:    \t4.519008e+07 \n",
    "    \n",
    "    \n",
    "9. **email** ~ Total email data volume sent and received by the MS during this session. Across the 134709 sessions, it has the following measures:\n",
    "    * Average:          \t2.259102e+06 \n",
    "    * Standard Deviation: \t1.071109e+06 \n",
    "    * Minimum Value:     \t8.359000e+03 \n",
    "    * Lower Quartile    \t1.359344e+06\n",
    "    * Median            \t2.263567e+06\n",
    "    * Upper Quartile     \t3.159818e+06 \n",
    "    * Maximum Value:    \t4.518036e+06\n",
    "    \n",
    "    \n",
    "10. **google** ~ Total google data volume sent and received by the MS during this session. Across the 134709 sessions, it has the following measures:\n",
    "    * Average:          \t7.807295e+06 \n",
    "    * Standard Deviation: \t3.516420e+06 \n",
    "    * Minimum Value:     \t4.033000e+04 \n",
    "    * Lower Quartile    \t4.943599e+06 \n",
    "    * Median            \t7.812835e+06\n",
    "    * Upper Quartile     \t1.068280e+07 \n",
    "    * Maximum Value:    \t1.552878e+07 \n",
    "    \n",
    "    \n",
    "    \n",
    "11. **other** ~ Total Other data volume sent and received by the MS during this session. Across the 134709 sessions, it has the following measures:\n",
    "    * Average:          \t4.293653e+08\n",
    "    * Standard Deviation: \t2.432681e+08\n",
    "    * Minimum Value:     \t1.490450e+05\n",
    "    * Lower Quartile    \t2.185534e+08\n",
    "    * Median            \t4.299865e+08\n",
    "    * Upper Quartile     \t6.399275e+08\n",
    "    * Maximum Value:    \t8.595209e+08\n",
    "\n"
   ]
  },
  {
   "cell_type": "markdown",
   "metadata": {},
   "source": [
    "Highly skewed distribution: If the skewness value is less than −1 or greater than +1.\n",
    "\n",
    "Moderately skewed distribution: If the skewness value is between −1 and −½ or between +½ and +1.\n",
    "\n",
    "Approximately symmetric distribution: If the skewness value is between −½ and +½."
   ]
  },
  {
   "cell_type": "markdown",
   "metadata": {},
   "source": [
    "### Outlier Detection"
   ]
  },
  {
   "cell_type": "code",
   "execution_count": 41,
   "metadata": {},
   "outputs": [],
   "source": [
    "# Outlier detection\n",
    "\n",
    "# chauvenets creterion (assumes normally distributed data)\n",
    "\n",
    "# def chauvenet(array):\n",
    "#     mean = array.mean()           # Mean of incoming array\n",
    "#     stdv = array.std()            # Standard deviation\n",
    "#     N = len(array)                # Lenght of incoming array\n",
    "#     criterion = 1.0/(2*N)         # Chauvenet's criterion\n",
    "#     d = abs(array-mean)/stdv      # Distance of a value to mean in stdv's\n",
    "#     prob = erfc(d)                # Area normal dist.    \n",
    "#     return prob < criterion       # Use boolean array outside this function#\n",
    "\n",
    "#zscore (assumes normal distribution too. not good)\n"
   ]
  },
  {
   "cell_type": "code",
   "execution_count": 42,
   "metadata": {},
   "outputs": [
    {
     "name": "stdout",
     "output_type": "stream",
     "text": [
      "google [False]\n",
      "youtube [False  True]\n",
      "gaming [False]\n",
      "netflix [False  True]\n",
      "email [False]\n",
      "social media [False]\n",
      "other [False]\n"
     ]
    }
   ],
   "source": [
    "\n",
    "#IQR\n",
    "\n",
    "#google\n",
    "Q1 = np.percentile(data.google, 25, interpolation = 'midpoint')  \n",
    "Q2 = np.percentile(data.google, 50, interpolation = 'midpoint')  \n",
    "Q3 = np.percentile(data.google, 75, interpolation = 'midpoint')  \n",
    "IQR = stats.iqr(data.google, interpolation = 'midpoint') \n",
    "o = (data.google < (Q1 - 1.0 * IQR)) |(data.google > (Q3 + 1.0 * IQR))\n",
    "i = o.unique()\n",
    "\n",
    "#youtube\n",
    "Q1 = np.percentile(data.youtube, 25, interpolation = 'midpoint')  \n",
    "Q2 = np.percentile(data.youtube, 50, interpolation = 'midpoint')  \n",
    "Q3 = np.percentile(data.youtube, 75, interpolation = 'midpoint')  \n",
    "IQR = stats.iqr(data.youtube, interpolation = 'midpoint') \n",
    "o = (data.youtube < (Q1 - 1.0 * IQR)) |(data.youtube > (Q3 + 1.0 * IQR))\n",
    "j = o.unique()\n",
    "\n",
    "#gaming\n",
    "Q1 = np.percentile(data.gaming, 25, interpolation = 'midpoint')  \n",
    "Q2 = np.percentile(data.gaming, 50, interpolation = 'midpoint')  \n",
    "Q3 = np.percentile(data.gaming, 75, interpolation = 'midpoint')  \n",
    "IQR = stats.iqr(data.gaming, interpolation = 'midpoint') \n",
    "o = (data.gaming < (Q1 - 1.0 * IQR)) |(data.gaming > (Q3 + 1.0 * IQR))\n",
    "k = o.unique()\n",
    "\n",
    "\n",
    "#netflix\n",
    "Q1 = np.percentile(data.netflix, 25, interpolation = 'midpoint')  \n",
    "Q2 = np.percentile(data.netflix, 50, interpolation = 'midpoint')  \n",
    "Q3 = np.percentile(data.netflix, 75, interpolation = 'midpoint')  \n",
    "IQR = stats.iqr(data.netflix, interpolation = 'midpoint') \n",
    "o = (data.netflix < (Q1 - 1.0 * IQR)) |(data.netflix > (Q3 + 1.0 * IQR))\n",
    "l = o.unique()\n",
    "\n",
    "\n",
    "#email\n",
    "Q1 = np.percentile(data.email, 25, interpolation = 'midpoint')  \n",
    "Q2 = np.percentile(data.email, 50, interpolation = 'midpoint')  \n",
    "Q3 = np.percentile(data.email, 75, interpolation = 'midpoint')  \n",
    "IQR = stats.iqr(data.email, interpolation = 'midpoint') \n",
    "o = (data.email < (Q1 - 1.0 * IQR)) |(data.email > (Q3 + 1.0 * IQR))\n",
    "m = np.unique(o)\n",
    "\n",
    "\n",
    "#social_media\n",
    "Q1 = np.percentile(data.social_media, 25, interpolation = 'midpoint')  \n",
    "Q2 = np.percentile(data.social_media, 50, interpolation = 'midpoint')  \n",
    "Q3 = np.percentile(data.social_media, 75, interpolation = 'midpoint')  \n",
    "IQR = stats.iqr(data.social_media, interpolation = 'midpoint') \n",
    "o = (data.social_media < (Q1 - 1.0 * IQR)) |(data.social_media > (Q3 + 1.0 * IQR))\n",
    "n = o.unique()\n",
    "\n",
    "#others\n",
    "Q1 = np.percentile(data.other, 25, interpolation = 'midpoint')  \n",
    "Q2 = np.percentile(data.other, 50, interpolation = 'midpoint')  \n",
    "Q3 = np.percentile(data.other, 75, interpolation = 'midpoint')  \n",
    "IQR = stats.iqr(data.other, interpolation = 'midpoint') \n",
    "o = (data.other < (Q1 - 1.0 * IQR)) |(data.other > (Q3 + 1.0 * IQR))\n",
    "p = o.unique()\n",
    "\n",
    "print('google', i)\n",
    "print('youtube', j)\n",
    "print('gaming', k)\n",
    "print('netflix', l)\n",
    "print('email', m)\n",
    "print('social media', n)\n",
    "print('other', p)"
   ]
  },
  {
   "cell_type": "markdown",
   "metadata": {},
   "source": [
    "Outliers present in the youtube, netflix and social_mdeia columns. I'll not impute them but standardize the column later during model fitting."
   ]
  },
  {
   "cell_type": "markdown",
   "metadata": {},
   "source": [
    "Same method will be extended to other columns."
   ]
  },
  {
   "cell_type": "markdown",
   "metadata": {},
   "source": [
    "## Graphical Univariate Analysis.\n",
    "\n",
    "Variables of interest: Number of xDR sessions, Session duration, the total download (DL) and upload (UL) data , the total data volume (in Bytes) during this session for each application (Social Media, Google, Email, YouTube, Netflix, Gaming)."
   ]
  },
  {
   "cell_type": "markdown",
   "metadata": {},
   "source": [
    "For graphical analysis of univariate categorical data, histograms are typically used. The histogram represents the frequency (count) or proportion (count/total count) of cases for a range of values. Typically, between about 5 and 30 bins are chosen. Histograms are one of the best ways to quickly learn a lot about your data, including central tendency, spread, modality, shape and outliers. Stem and Leaf plots could also be used for the same purpose. Boxplots can also be used to present  information about the central tendency, symmetry and skew, as well as outliers.  Quantile normal plots or QQ plots and other techniques could also be used here."
   ]
  },
  {
   "cell_type": "markdown",
   "metadata": {},
   "source": [
    "Number of xDR sessions,  Session duration,  the total download (DL) and upload (UL) data , the total data volume (in Bytes) during this session for each application (Social Media, Google, Email, YouTube, Netflix, Gaming)."
   ]
  },
  {
   "cell_type": "code",
   "execution_count": 43,
   "metadata": {},
   "outputs": [
    {
     "name": "stdout",
     "output_type": "stream",
     "text": [
      "\n",
      " mu = 430333100.71 and sigma = 244019110.62\n",
      "\n"
     ]
    },
    {
     "data": {
      "image/png": "[encoded data removed]",
      "text/plain": [
       "<Figure size 432x288 with 1 Axes>"
      ]
     },
     "metadata": {
      "needs_background": "light"
     },
     "output_type": "display_data"
    },
    {
     "data": {
      "image/png": "[encoded data removed]",
      "text/plain": [
       "<Figure size 432x288 with 1 Axes>"
      ]
     },
     "metadata": {
      "needs_background": "light"
     },
     "output_type": "display_data"
    }
   ],
   "source": [
    "sns.distplot(data['gaming'] , fit=norm);\n",
    "\n",
    "# Get the fitted parameters used by the function\n",
    "(mu, sigma) = norm.fit(data['gaming'])\n",
    "print( '\\n mu = {:.2f} and sigma = {:.2f}\\n'.format(mu, sigma))\n",
    "\n",
    "#Now plot the distribution\n",
    "plt.legend(['Normal dist. ($\\mu=$ {:.2f} and $\\sigma=$ {:.2f} )'.format(mu, sigma)],\n",
    "            loc='best')\n",
    "plt.ylabel('Frequency')\n",
    "plt.title('y distribution')\n",
    "\n",
    "#Get also the QQ-plot\n",
    "fig = plt.figure()\n",
    "res = stats.probplot(data['gaming'], plot=plt)\n",
    "plt.show()"
   ]
  },
  {
   "cell_type": "code",
   "execution_count": 44,
   "metadata": {},
   "outputs": [
    {
     "name": "stdout",
     "output_type": "stream",
     "text": [
      "\n",
      " mu = 22628606.54 and sigma = 9260789.22\n",
      "\n"
     ]
    },
    {
     "data": {
      "image/png": "[encoded data removed]",
      "text/plain": [
       "<Figure size 432x288 with 1 Axes>"
      ]
     },
     "metadata": {
      "needs_background": "light"
     },
     "output_type": "display_data"
    },
    {
     "data": {
      "image/png": "[encoded data removed]",
      "text/plain": [
       "<Figure size 432x288 with 1 Axes>"
      ]
     },
     "metadata": {
      "needs_background": "light"
     },
     "output_type": "display_data"
    }
   ],
   "source": [
    "# sns.distplot(data['Social Media DL (Bytes)']) # numeric\n",
    "sns.distplot(data['netflix'] , bins = 10, fit=norm);\n",
    "\n",
    "# Get the fitted parameters used by the function\n",
    "(mu, sigma) = norm.fit(data['netflix'])\n",
    "print( '\\n mu = {:.2f} and sigma = {:.2f}\\n'.format(mu, sigma))\n",
    "\n",
    "#Now plot the distribution\n",
    "plt.legend(['Normal dist. ($\\mu=$ {:.2f} and $\\sigma=$ {:.2f} )'.format(mu, sigma)],\n",
    "            loc='best')\n",
    "plt.ylabel('Frequency')\n",
    "plt.title('y distribution')\n",
    "\n",
    "#Get also the QQ-plot\n",
    "fig = plt.figure()\n",
    "res = stats.probplot(data['netflix'], plot=plt)\n",
    "plt.show()"
   ]
  },
  {
   "cell_type": "code",
   "execution_count": 45,
   "metadata": {},
   "outputs": [
    {
     "name": "stdout",
     "output_type": "stream",
     "text": [
      "\n",
      " mu = 22643482.64 and sigma = 9246769.48\n",
      "\n"
     ]
    },
    {
     "data": {
      "image/png": "[encoded data removed]",
      "text/plain": [
       "<Figure size 432x288 with 1 Axes>"
      ]
     },
     "metadata": {
      "needs_background": "light"
     },
     "output_type": "display_data"
    },
    {
     "data": {
      "image/png": "[encoded data removed]",
      "text/plain": [
       "<Figure size 432x288 with 1 Axes>"
      ]
     },
     "metadata": {
      "needs_background": "light"
     },
     "output_type": "display_data"
    }
   ],
   "source": [
    "# sns.distplot(data['Social Media DL (Bytes)']) # numeric\n",
    "sns.distplot(data['youtube'] , fit=norm);\n",
    "# sns.violinplot(data['youtube'])\n",
    "\n",
    "# Get the fitted parameters used by the function\n",
    "(mu, sigma) = norm.fit(data['youtube'])\n",
    "print( '\\n mu = {:.2f} and sigma = {:.2f}\\n'.format(mu, sigma))\n",
    "\n",
    "#Now plot the distribution\n",
    "plt.legend(['Normal dist. ($\\mu=$ {:.2f} and $\\sigma=$ {:.2f} )'.format(mu, sigma)],\n",
    "            loc='best')\n",
    "plt.ylabel('Frequency')\n",
    "plt.title('y distribution')\n",
    "\n",
    "#Get also the QQ-plot\n",
    "fig = plt.figure()\n",
    "res = stats.probplot(data['youtube'], plot=plt)\n",
    "plt.show()"
   ]
  },
  {
   "cell_type": "code",
   "execution_count": 46,
   "metadata": {},
   "outputs": [
    {
     "name": "stdout",
     "output_type": "stream",
     "text": [
      "\n",
      " mu = 2259102.31 and sigma = 1071105.49\n",
      "\n"
     ]
    },
    {
     "data": {
      "image/png": "[encoded data removed]",
      "text/plain": [
       "<Figure size 432x288 with 1 Axes>"
      ]
     },
     "metadata": {
      "needs_background": "light"
     },
     "output_type": "display_data"
    },
    {
     "data": {
      "image/png": "[encoded data removed]",
      "text/plain": [
       "<Figure size 432x288 with 1 Axes>"
      ]
     },
     "metadata": {
      "needs_background": "light"
     },
     "output_type": "display_data"
    }
   ],
   "source": [
    "# sns.distplot(data['email'], fit = norm) # numeric\n",
    "sns.boxplot(data['email'])\n",
    "\n",
    "# Get the fitted parameters used by the function\n",
    "(mu, sigma) = norm.fit(data['email'])\n",
    "print( '\\n mu = {:.2f} and sigma = {:.2f}\\n'.format(mu, sigma))\n",
    "\n",
    "#Now plot the distribution\n",
    "plt.legend(['Normal dist. ($\\mu=$ {:.2f} and $\\sigma=$ {:.2f} )'.format(mu, sigma)],\n",
    "            loc='best')\n",
    "plt.ylabel('Frequency')\n",
    "plt.title('y distribution')\n",
    "\n",
    "#Get also the QQ-plot\n",
    "fig = plt.figure()\n",
    "res = stats.probplot(data['email'], plot=plt)\n",
    "plt.show()"
   ]
  },
  {
   "cell_type": "code",
   "execution_count": 47,
   "metadata": {},
   "outputs": [
    {
     "name": "stdout",
     "output_type": "stream",
     "text": [
      "\n",
      " mu = 7807294.55 and sigma = 3516408.52\n",
      "\n"
     ]
    },
    {
     "data": {
      "image/png": "[encoded data removed]",
      "text/plain": [
       "<Figure size 432x288 with 1 Axes>"
      ]
     },
     "metadata": {
      "needs_background": "light"
     },
     "output_type": "display_data"
    },
    {
     "data": {
      "image/png": "[encoded data removed]",
      "text/plain": [
       "<Figure size 432x288 with 1 Axes>"
      ]
     },
     "metadata": {
      "needs_background": "light"
     },
     "output_type": "display_data"
    }
   ],
   "source": [
    "# sns.distplot(data['Social Media DL (Bytes)']) # numeric\n",
    "# sns.distplot(data['google'] , fit=norm);\n",
    "sns.boxplot(data['google'])\n",
    "\n",
    "# Get the fitted parameters used by the function\n",
    "(mu, sigma) = norm.fit(data['google'])\n",
    "print( '\\n mu = {:.2f} and sigma = {:.2f}\\n'.format(mu, sigma))\n",
    "\n",
    "#Now plot the distribution\n",
    "plt.legend(['Normal dist. ($\\mu=$ {:.2f} and $\\sigma=$ {:.2f} )'.format(mu, sigma)],\n",
    "            loc='best')\n",
    "plt.ylabel('Frequency')\n",
    "plt.title('y distribution')\n",
    "\n",
    "#Get also the QQ-plot\n",
    "fig = plt.figure()\n",
    "res = stats.probplot(data['google'], plot=plt)\n",
    "plt.show()"
   ]
  },
  {
   "cell_type": "code",
   "execution_count": 48,
   "metadata": {},
   "outputs": [
    {
     "name": "stdout",
     "output_type": "stream",
     "text": [
      "\n",
      " mu = 1828250.21 and sigma = 1035642.69\n",
      "\n"
     ]
    },
    {
     "data": {
      "image/png": "[encoded data removed]",
      "text/plain": [
       "<Figure size 432x288 with 1 Axes>"
      ]
     },
     "metadata": {
      "needs_background": "light"
     },
     "output_type": "display_data"
    },
    {
     "data": {
      "image/png": "[encoded data removed]",
      "text/plain": [
       "<Figure size 432x288 with 1 Axes>"
      ]
     },
     "metadata": {
      "needs_background": "light"
     },
     "output_type": "display_data"
    }
   ],
   "source": [
    "# sns.distplot(data['Social Media DL (Bytes)']) # numeric\n",
    "sns.distplot(data['social_media'] , fit=norm);\n",
    "\n",
    "# Get the fitted parameters used by the function\n",
    "(mu, sigma) = norm.fit(data['social_media'])\n",
    "print( '\\n mu = {:.2f} and sigma = {:.2f}\\n'.format(mu, sigma))\n",
    "\n",
    "#Now plot the distribution\n",
    "plt.legend(['Normal dist. ($\\mu=$ {:.2f} and $\\sigma=$ {:.2f} )'.format(mu, sigma)],\n",
    "            loc='best')\n",
    "plt.ylabel('Frequency')\n",
    "plt.title('y distribution')\n",
    "\n",
    "#Get also the QQ-plot\n",
    "fig = plt.figure()\n",
    "res = stats.probplot(data['social_media'], plot=plt)\n",
    "plt.show()"
   ]
  },
  {
   "cell_type": "code",
   "execution_count": 52,
   "metadata": {},
   "outputs": [
    {
     "name": "stdout",
     "output_type": "stream",
     "text": [
      "\n",
      " mu = 495764636.37 and sigma = 244380172.44\n",
      "\n"
     ]
    },
    {
     "data": {
      "image/png": "[encoded data removed]",
      "text/plain": [
       "<Figure size 432x288 with 1 Axes>"
      ]
     },
     "metadata": {
      "needs_background": "light"
     },
     "output_type": "display_data"
    },
    {
     "data": {
      "image/png": "[encoded data removed]",
      "text/plain": [
       "<Figure size 432x288 with 1 Axes>"
      ]
     },
     "metadata": {
      "needs_background": "light"
     },
     "output_type": "display_data"
    }
   ],
   "source": [
    "# total upload and download bytes\n",
    "sns.distplot(data['total_bytes'] , fit=norm);\n",
    "\n",
    "# Get the fitted parameters used by the function\n",
    "(mu, sigma) = norm.fit(data['total_bytes'])\n",
    "print( '\\n mu = {:.2f} and sigma = {:.2f}\\n'.format(mu, sigma))\n",
    "\n",
    "#Now plot the distribution\n",
    "plt.legend(['Normal dist. ($\\mu=$ {:.2f} and $\\sigma=$ {:.2f} )'.format(mu, sigma)],\n",
    "            loc='best')\n",
    "plt.ylabel('Frequency')\n",
    "plt.title('y distribution')\n",
    "\n",
    "#Get also the QQ-plot\n",
    "fig = plt.figure()\n",
    "res = stats.probplot(data['total_bytes'], plot=plt)\n",
    "plt.show()"
   ]
  },
  {
   "cell_type": "code",
   "execution_count": 55,
   "metadata": {},
   "outputs": [
    {
     "name": "stdout",
     "output_type": "stream",
     "text": [
      "\n",
      " mu = 104609105.55 and sigma = 81037071.33\n",
      "\n"
     ]
    },
    {
     "data": {
      "image/png": "[encoded data removed]",
      "text/plain": [
       "<Figure size 432x288 with 1 Axes>"
      ]
     },
     "metadata": {
      "needs_background": "light"
     },
     "output_type": "display_data"
    },
    {
     "data": {
      "image/png": "[encoded data removed]",
      "text/plain": [
       "<Figure size 432x288 with 1 Axes>"
      ]
     },
     "metadata": {
      "needs_background": "light"
     },
     "output_type": "display_data"
    }
   ],
   "source": [
    "# xdr ms\n",
    "sns.distplot(data['Dur. (ms).1'] , fit=norm);\n",
    "\n",
    "# Get the fitted parameters used by the function\n",
    "(mu, sigma) = norm.fit(data['Dur. (ms).1'])\n",
    "print( '\\n mu = {:.2f} and sigma = {:.2f}\\n'.format(mu, sigma))\n",
    "\n",
    "#Now plot the distribution\n",
    "plt.legend(['Normal dist. ($\\mu=$ {:.2f} and $\\sigma=$ {:.2f} )'.format(mu, sigma)],\n",
    "            loc='best')\n",
    "plt.ylabel('Frequency')\n",
    "plt.title('y distribution')\n",
    "\n",
    "#Get also the QQ-plot\n",
    "fig = plt.figure()\n",
    "res = stats.probplot(data['Dur. (ms).1'], plot=plt)\n",
    "plt.show()"
   ]
  },
  {
   "cell_type": "markdown",
   "metadata": {},
   "source": [
    "Heavily rightly skewed."
   ]
  },
  {
   "cell_type": "markdown",
   "metadata": {},
   "source": [
    "## Bivariate Analysis\n",
    "– explore the relationship between each application & the total DL+UL data using appropriate methods and interpret your findings.\n",
    "\n",
    "(Social Media, Google, Email, YouTube, Netflix, Gaming ++ total_bytes)."
   ]
  },
  {
   "cell_type": "code",
   "execution_count": 57,
   "metadata": {},
   "outputs": [
    {
     "data": {
      "text/html": [
       "<div>\n",
       "<style scoped>\n",
       "    .dataframe tbody tr th:only-of-type {\n",
       "        vertical-align: middle;\n",
       "    }\n",
       "\n",
       "    .dataframe tbody tr th {\n",
       "        vertical-align: top;\n",
       "    }\n",
       "\n",
       "    .dataframe thead th {\n",
       "        text-align: right;\n",
       "    }\n",
       "</style>\n",
       "<table border=\"1\" class=\"dataframe\">\n",
       "  <thead>\n",
       "    <tr style=\"text-align: right;\">\n",
       "      <th></th>\n",
       "      <th>social_media</th>\n",
       "      <th>google</th>\n",
       "      <th>email</th>\n",
       "      <th>youtube</th>\n",
       "      <th>netflix</th>\n",
       "      <th>gaming</th>\n",
       "      <th>total_bytes</th>\n",
       "      <th>other</th>\n",
       "    </tr>\n",
       "  </thead>\n",
       "  <tbody>\n",
       "    <tr>\n",
       "      <th>149997</th>\n",
       "      <td>2.352181e+06</td>\n",
       "      <td>4.415361e+06</td>\n",
       "      <td>2.121718e+06</td>\n",
       "      <td>2.216552e+07</td>\n",
       "      <td>4.064329e+07</td>\n",
       "      <td>6.316281e+08</td>\n",
       "      <td>7.057839e+08</td>\n",
       "      <td>7.146381e+08</td>\n",
       "    </tr>\n",
       "    <tr>\n",
       "      <th>149998</th>\n",
       "      <td>1.260239e+06</td>\n",
       "      <td>6.585469e+06</td>\n",
       "      <td>2.058277e+06</td>\n",
       "      <td>2.451641e+07</td>\n",
       "      <td>1.502970e+07</td>\n",
       "      <td>5.669338e+08</td>\n",
       "      <td>6.276986e+08</td>\n",
       "      <td>1.324156e+08</td>\n",
       "    </tr>\n",
       "    <tr>\n",
       "      <th>149999</th>\n",
       "      <td>8.231090e+05</td>\n",
       "      <td>7.757267e+06</td>\n",
       "      <td>2.850914e+06</td>\n",
       "      <td>1.712251e+07</td>\n",
       "      <td>1.649484e+07</td>\n",
       "      <td>3.550664e+08</td>\n",
       "      <td>4.015220e+08</td>\n",
       "      <td>8.161200e+08</td>\n",
       "    </tr>\n",
       "    <tr>\n",
       "      <th>150000</th>\n",
       "      <td>1.828250e+06</td>\n",
       "      <td>7.807295e+06</td>\n",
       "      <td>2.259102e+06</td>\n",
       "      <td>2.264348e+07</td>\n",
       "      <td>2.262861e+07</td>\n",
       "      <td>4.303331e+08</td>\n",
       "      <td>4.957646e+08</td>\n",
       "      <td>4.293653e+08</td>\n",
       "    </tr>\n",
       "    <tr>\n",
       "      <th>totals</th>\n",
       "      <td>2.742394e+11</td>\n",
       "      <td>1.171102e+12</td>\n",
       "      <td>3.388676e+11</td>\n",
       "      <td>3.396545e+12</td>\n",
       "      <td>3.394314e+12</td>\n",
       "      <td>6.455040e+13</td>\n",
       "      <td>7.436519e+13</td>\n",
       "      <td>6.440523e+13</td>\n",
       "    </tr>\n",
       "  </tbody>\n",
       "</table>\n",
       "</div>"
      ],
      "text/plain": [
       "        social_media        google         email       youtube       netflix  \\\n",
       "149997  2.352181e+06  4.415361e+06  2.121718e+06  2.216552e+07  4.064329e+07   \n",
       "149998  1.260239e+06  6.585469e+06  2.058277e+06  2.451641e+07  1.502970e+07   \n",
       "149999  8.231090e+05  7.757267e+06  2.850914e+06  1.712251e+07  1.649484e+07   \n",
       "150000  1.828250e+06  7.807295e+06  2.259102e+06  2.264348e+07  2.262861e+07   \n",
       "totals  2.742394e+11  1.171102e+12  3.388676e+11  3.396545e+12  3.394314e+12   \n",
       "\n",
       "              gaming   total_bytes         other  \n",
       "149997  6.316281e+08  7.057839e+08  7.146381e+08  \n",
       "149998  5.669338e+08  6.276986e+08  1.324156e+08  \n",
       "149999  3.550664e+08  4.015220e+08  8.161200e+08  \n",
       "150000  4.303331e+08  4.957646e+08  4.293653e+08  \n",
       "totals  6.455040e+13  7.436519e+13  6.440523e+13  "
      ]
     },
     "execution_count": 57,
     "metadata": {},
     "output_type": "execute_result"
    }
   ],
   "source": [
    "# data['total'] = data['Total DL (Bytes)'] + data['Total UL (Bytes)']\n",
    "# sns.barplot(x = data['social_media'], y = data['total'])\n",
    "\n",
    "biv_data = data[['social_media', 'google', 'email', 'youtube', 'netflix', 'gaming', 'total_bytes', 'other']]\n",
    "# adding a summation row in all columns\n",
    "biv_data.loc['totals'] = biv_data.sum()\n",
    "biv_data.tail()"
   ]
  },
  {
   "cell_type": "markdown",
   "metadata": {},
   "source": [
    "### Applications total bytes"
   ]
  },
  {
   "cell_type": "code",
   "execution_count": 58,
   "metadata": {},
   "outputs": [
    {
     "data": {
      "text/plain": [
       "Text(0.5, 0, 'application')"
      ]
     },
     "execution_count": 58,
     "metadata": {},
     "output_type": "execute_result"
    },
    {
     "data": {
      "image/png": "[encoded data removed]",
      "text/plain": [
       "<Figure size 864x432 with 1 Axes>"
      ]
     },
     "metadata": {
      "needs_background": "light"
     },
     "output_type": "display_data"
    }
   ],
   "source": [
    "a = biv_data.tail(1)\n",
    "long_df = pd.melt(a)\n",
    "long_df = long_df.drop([6], axis  = 0)\n",
    "plt.figure(figsize=(12,6))\n",
    "sns.barplot(x = long_df.variable, y = long_df.value)\n",
    "plt.title('Applications UL and DL data')\n",
    "plt.ylabel('total bytes')\n",
    "plt.xlabel('application')"
   ]
  },
  {
   "cell_type": "code",
   "execution_count": 61,
   "metadata": {},
   "outputs": [
    {
     "data": {
      "image/png": "[encoded data removed]",
      "text/plain": [
       "<Figure size 720x504 with 1 Axes>"
      ]
     },
     "metadata": {},
     "output_type": "display_data"
    }
   ],
   "source": [
    "fig = plt.figure(figsize =(10, 7)) \n",
    "a = biv_data.drop(['total_bytes'], axis = 1)\n",
    "plt.pie(a.loc['totals'], labels = a.columns)\n",
    "plt.title('A pie chart showing total data bytes for various applications')\n",
    "plt.show()\n",
    "\n"
   ]
  },
  {
   "cell_type": "markdown",
   "metadata": {},
   "source": [
    "Will you look at that!!!\n",
    "Gamers Republic!!\n",
    "*  The large percentage of **others** can be explained by many applications under the name others.\n",
    "*  As for gaming:\n",
    "  1. The applications are heavy. (Require more data)\n",
    "  2. Most of the users are gamers.\n",
    "  3. Most of the applications in the hand sets are games."
   ]
  },
  {
   "cell_type": "markdown",
   "metadata": {},
   "source": [
    "## Variable transformations\n",
    "– segment the users into top five decile classes based on the total duration for all sessions and compute the total data (DL+UL) per decile class."
   ]
  },
  {
   "cell_type": "code",
   "execution_count": 67,
   "metadata": {},
   "outputs": [
    {
     "data": {
      "text/plain": [
       "Index(['Start ms', 'End ms', 'Dur. (ms)', 'IMSI', 'MSISDN/Number', 'IMEI',\n",
       "       'Avg RTT DL (ms)', 'Avg RTT UL (ms)', 'Avg Bearer TP DL (kbps)',\n",
       "       'Avg Bearer TP UL (kbps)', 'TCP DL Retrans. Vol (Bytes)',\n",
       "       'TCP UL Retrans. Vol (Bytes)', 'DL TP < 50 Kbps (%)',\n",
       "       '50 Kbps < DL TP < 250 Kbps (%)', '250 Kbps < DL TP < 1 Mbps (%)',\n",
       "       'DL TP > 1 Mbps (%)', 'UL TP < 10 Kbps (%)',\n",
       "       '10 Kbps < UL TP < 50 Kbps (%)', '50 Kbps < UL TP < 300 Kbps (%)',\n",
       "       'UL TP > 300 Kbps (%)', 'HTTP DL (Bytes)', 'HTTP UL (Bytes)',\n",
       "       'Activity Duration DL (ms)', 'Activity Duration UL (ms)', 'Dur. (ms).1',\n",
       "       'Nb of sec with 125000B < Vol DL',\n",
       "       'Nb of sec with 1250B < Vol UL < 6250B',\n",
       "       'Nb of sec with 31250B < Vol DL < 125000B',\n",
       "       'Nb of sec with 37500B < Vol UL',\n",
       "       'Nb of sec with 6250B < Vol DL < 31250B',\n",
       "       'Nb of sec with 6250B < Vol UL < 37500B',\n",
       "       'Nb of sec with Vol DL < 6250B', 'Nb of sec with Vol UL < 1250B',\n",
       "       'Social Media DL (Bytes)', 'Social Media UL (Bytes)',\n",
       "       'Google DL (Bytes)', 'Google UL (Bytes)', 'Email DL (Bytes)',\n",
       "       'Email UL (Bytes)', 'Youtube DL (Bytes)', 'Youtube UL (Bytes)',\n",
       "       'Netflix DL (Bytes)', 'Netflix UL (Bytes)', 'Gaming DL (Bytes)',\n",
       "       'Gaming UL (Bytes)', 'Other DL (Bytes)', 'Other UL (Bytes)',\n",
       "       'Total UL (Bytes)', 'Total DL (Bytes)', 'Bearer Id',\n",
       "       'Last Location Name', 'Handset Manufacturer', 'Handset Type', 'Start',\n",
       "       'End', 'total_bytes', 'social_media', 'email', 'google', 'youtube',\n",
       "       'netflix', 'gaming', 'other', 'Last Location Name_encoded',\n",
       "       'Handset Type_encoded', 'Handset Manufacturer_encoded',\n",
       "       'Bearer Id_encoded', 'Decile_rank'],\n",
       "      dtype='object')"
      ]
     },
     "execution_count": 67,
     "metadata": {},
     "output_type": "execute_result"
    }
   ],
   "source": [
    "# adding Decile_rank column to the DataFrame \n",
    "data['Decile_rank'] = pd.qcut(data['Dur. (ms)'], 5, labels = False) \n",
    "data.columns"
   ]
  },
  {
   "cell_type": "code",
   "execution_count": 68,
   "metadata": {},
   "outputs": [
    {
     "data": {
      "text/html": [
       "<div>\n",
       "<style scoped>\n",
       "    .dataframe tbody tr th:only-of-type {\n",
       "        vertical-align: middle;\n",
       "    }\n",
       "\n",
       "    .dataframe tbody tr th {\n",
       "        vertical-align: top;\n",
       "    }\n",
       "\n",
       "    .dataframe thead th {\n",
       "        text-align: right;\n",
       "    }\n",
       "</style>\n",
       "<table border=\"1\" class=\"dataframe\">\n",
       "  <thead>\n",
       "    <tr style=\"text-align: right;\">\n",
       "      <th></th>\n",
       "      <th>total_bytes</th>\n",
       "    </tr>\n",
       "    <tr>\n",
       "      <th>Decile_rank</th>\n",
       "      <th></th>\n",
       "    </tr>\n",
       "  </thead>\n",
       "  <tbody>\n",
       "    <tr>\n",
       "      <th>0</th>\n",
       "      <td>1.488404e+13</td>\n",
       "    </tr>\n",
       "    <tr>\n",
       "      <th>1</th>\n",
       "      <td>2.361997e+13</td>\n",
       "    </tr>\n",
       "    <tr>\n",
       "      <th>2</th>\n",
       "      <td>6.089083e+12</td>\n",
       "    </tr>\n",
       "    <tr>\n",
       "      <th>3</th>\n",
       "      <td>1.485375e+13</td>\n",
       "    </tr>\n",
       "    <tr>\n",
       "      <th>4</th>\n",
       "      <td>1.491834e+13</td>\n",
       "    </tr>\n",
       "  </tbody>\n",
       "</table>\n",
       "</div>"
      ],
      "text/plain": [
       "              total_bytes\n",
       "Decile_rank              \n",
       "0            1.488404e+13\n",
       "1            2.361997e+13\n",
       "2            6.089083e+12\n",
       "3            1.485375e+13\n",
       "4            1.491834e+13"
      ]
     },
     "execution_count": 68,
     "metadata": {},
     "output_type": "execute_result"
    }
   ],
   "source": [
    "new_df = data[['Decile_rank', 'total_bytes']]\n",
    "a = new_df.groupby('Decile_rank').sum()\n",
    "a"
   ]
  },
  {
   "cell_type": "code",
   "execution_count": 69,
   "metadata": {},
   "outputs": [
    {
     "data": {
      "text/plain": [
       "Text(0.5, 0, 'decile rank')"
      ]
     },
     "execution_count": 69,
     "metadata": {},
     "output_type": "execute_result"
    },
    {
     "data": {
      "image/png": "[encoded data removed]",
      "text/plain": [
       "<Figure size 576x432 with 1 Axes>"
      ]
     },
     "metadata": {
      "needs_background": "light"
     },
     "output_type": "display_data"
    }
   ],
   "source": [
    "plt.figure(figsize=(8,6))\n",
    "sns.barplot(x = a.index, y = a.total_bytes)\n",
    "plt.title('Total UL and DL byte per decile group')\n",
    "plt.ylabel('total bytes')\n",
    "plt.xlabel('decile rank')"
   ]
  },
  {
   "cell_type": "markdown",
   "metadata": {},
   "source": [
    "## Correlation Analysis\n",
    "– compute a correlation matrix for the following variables and interpret your findings: Social Media data, Google data, Email data, Youtube data, Netflix data, Gaming data, Other data - (jupyter notebook + slide )"
   ]
  },
  {
   "cell_type": "markdown",
   "metadata": {},
   "source": [
    "### correlation on the total bytes"
   ]
  },
  {
   "cell_type": "code",
   "execution_count": 70,
   "metadata": {},
   "outputs": [
    {
     "data": {
      "image/png": "[encoded data removed]",
      "text/plain": [
       "<Figure size 864x720 with 2 Axes>"
      ]
     },
     "metadata": {
      "needs_background": "light"
     },
     "output_type": "display_data"
    }
   ],
   "source": [
    "corr_data = data[['social_media', 'google', 'email', 'youtube', 'netflix', 'gaming', 'other']]\n",
    "\n",
    "    \n",
    "corr = corr_data.corr()\n",
    "f_fig, f_ax = plt.subplots(figsize=(12, 10))\n",
    "f_ax = sns.heatmap(corr, vmin=0, vmax=1, square=True,\n",
    "                   annot=False, annot_kws={\"size\": 10}, cmap=\"BuPu\")"
   ]
  },
  {
   "cell_type": "markdown",
   "metadata": {},
   "source": [
    "##### The correlation between the variables is super low. "
   ]
  },
  {
   "cell_type": "markdown",
   "metadata": {},
   "source": [
    "### On the upload bytes"
   ]
  },
  {
   "cell_type": "code",
   "execution_count": 71,
   "metadata": {},
   "outputs": [
    {
     "data": {
      "image/png": "[encoded data removed]",
      "text/plain": [
       "<Figure size 864x720 with 2 Axes>"
      ]
     },
     "metadata": {
      "needs_background": "light"
     },
     "output_type": "display_data"
    }
   ],
   "source": [
    "corr_data = data[['Social Media UL (Bytes)', 'Google UL (Bytes)', 'Email UL (Bytes)', 'Youtube UL (Bytes)', 'Netflix UL (Bytes)', 'Gaming UL (Bytes)', 'Other UL (Bytes)']]\n",
    "\n",
    "    \n",
    "corr = corr_data.corr()\n",
    "f_fig, f_ax = plt.subplots(figsize=(12, 10))\n",
    "f_ax = sns.heatmap(corr, vmin=0, vmax=1, square=True,\n",
    "                   annot=False, annot_kws={\"size\": 10}, cmap=\"BuPu\")"
   ]
  },
  {
   "cell_type": "markdown",
   "metadata": {},
   "source": [
    "##### The correlation between the variables is super low. "
   ]
  },
  {
   "cell_type": "markdown",
   "metadata": {},
   "source": [
    "### On the download bytes"
   ]
  },
  {
   "cell_type": "code",
   "execution_count": 72,
   "metadata": {},
   "outputs": [
    {
     "data": {
      "image/png": "[encoded data removed]",
      "text/plain": [
       "<Figure size 864x720 with 2 Axes>"
      ]
     },
     "metadata": {
      "needs_background": "light"
     },
     "output_type": "display_data"
    }
   ],
   "source": [
    "corr_data = data[['Social Media DL (Bytes)', 'Google DL (Bytes)', 'Email DL (Bytes)', 'Youtube DL (Bytes)', 'Netflix DL (Bytes)', 'Gaming DL (Bytes)', 'Other DL (Bytes)']]\n",
    "\n",
    "    \n",
    "corr = corr_data.corr()\n",
    "f_fig, f_ax = plt.subplots(figsize=(12, 10))\n",
    "f_ax = sns.heatmap(corr, vmin=0, vmax=1, square=True,\n",
    "                   annot=False, annot_kws={\"size\": 10}, cmap=\"BuPu\")"
   ]
  },
  {
   "cell_type": "markdown",
   "metadata": {},
   "source": [
    "##### The correlation between the variables is super low. "
   ]
  },
  {
   "cell_type": "markdown",
   "metadata": {},
   "source": [
    "## Dimensionality Reduction\n",
    "– perform a principal component analysis to reduce the dimensions of your data and provide a useful interpretation of the results."
   ]
  },
  {
   "cell_type": "code",
   "execution_count": 73,
   "metadata": {},
   "outputs": [],
   "source": [
    "# standardize the data\n",
    "from sklearn.preprocessing import StandardScaler\n",
    "\n",
    "\n",
    "new_numerical = [] #this leaves out the categorical columns that were encoded but not replaced\n",
    "for col in data.columns:\n",
    "    if data[col].dtype in ['int16', 'int32', 'int64', 'float16', 'float32', 'float64']:\n",
    "        new_numerical.append(col)\n",
    "        \n",
    "seg = data[new_numerical].copy()\n",
    "scaler = StandardScaler()\n",
    "scaled_data = scaler.fit_transform(seg)"
   ]
  },
  {
   "cell_type": "code",
   "execution_count": null,
   "metadata": {},
   "outputs": [],
   "source": [
    "# pd.DataFrame(scaled_data)"
   ]
  },
  {
   "cell_type": "code",
   "execution_count": 74,
   "metadata": {},
   "outputs": [
    {
     "data": {
      "text/plain": [
       "(150001, 62)"
      ]
     },
     "execution_count": 74,
     "metadata": {},
     "output_type": "execute_result"
    }
   ],
   "source": [
    "scaled_data.shape"
   ]
  },
  {
   "cell_type": "code",
   "execution_count": 75,
   "metadata": {},
   "outputs": [
    {
     "data": {
      "text/plain": [
       "PCA()"
      ]
     },
     "execution_count": 75,
     "metadata": {},
     "output_type": "execute_result"
    }
   ],
   "source": [
    "pca = PCA()\n",
    "pca.fit(scaled_data)"
   ]
  },
  {
   "cell_type": "code",
   "execution_count": 76,
   "metadata": {},
   "outputs": [
    {
     "data": {
      "text/plain": [
       "array([1.23660509e-01, 6.45021861e-02, 5.08683407e-02, 4.60926309e-02,\n",
       "       4.11019800e-02, 3.38728946e-02, 3.25387682e-02, 3.24579954e-02,\n",
       "       3.22696539e-02, 3.20777591e-02, 3.18877804e-02, 2.88852046e-02,\n",
       "       2.75921319e-02, 2.55404031e-02, 2.36567205e-02, 2.34941928e-02,\n",
       "       2.27051098e-02, 1.84699904e-02, 1.80877131e-02, 1.79189295e-02,\n",
       "       1.63252018e-02, 1.61882726e-02, 1.61690374e-02, 1.61178750e-02,\n",
       "       1.60846091e-02, 1.59963839e-02, 1.59563673e-02, 1.57559839e-02,\n",
       "       1.50924248e-02, 1.41653544e-02, 1.24692113e-02, 1.17837092e-02,\n",
       "       1.15300358e-02, 1.09754349e-02, 9.81626274e-03, 8.56858948e-03,\n",
       "       8.35542217e-03, 7.65201683e-03, 6.15957038e-03, 5.51437865e-03,\n",
       "       4.62384704e-03, 4.60973848e-03, 4.36143301e-03, 2.84444775e-03,\n",
       "       2.47265327e-03, 1.29969998e-03, 1.02363293e-03, 2.66603614e-04,\n",
       "       6.94933376e-05, 5.70810640e-05, 1.43339109e-05, 1.19033690e-13,\n",
       "       5.33855418e-32, 4.75023529e-32, 3.16979021e-32, 1.47024637e-32,\n",
       "       7.95466989e-33, 3.92695327e-33, 7.35401698e-34, 5.74404739e-34,\n",
       "       5.74404739e-34, 2.52573123e-34])"
      ]
     },
     "execution_count": 76,
     "metadata": {},
     "output_type": "execute_result"
    }
   ],
   "source": [
    "pca.explained_variance_ratio_"
   ]
  },
  {
   "cell_type": "code",
   "execution_count": 78,
   "metadata": {},
   "outputs": [
    {
     "data": {
      "image/png": "[encoded data removed]",
      "text/plain": [
       "<Figure size 1440x1008 with 1 Axes>"
      ]
     },
     "metadata": {
      "needs_background": "light"
     },
     "output_type": "display_data"
    }
   ],
   "source": [
    "plt.figure(figsize = (20,14))\n",
    "plt.plot(range(62), pca.explained_variance_ratio_.cumsum(), marker = 'o', linestyle = '--')\n",
    "plt.xlabel('components')\n",
    "plt.ylabel('cummulative explained variance')\n",
    "plt.grid(True)"
   ]
  },
  {
   "cell_type": "markdown",
   "metadata": {},
   "source": [
    "When choosing the number of components, the number cutting at least 80% of the cumm explained variance is considered.\n",
    "**n = 23**"
   ]
  },
  {
   "cell_type": "code",
   "execution_count": 79,
   "metadata": {},
   "outputs": [
    {
     "data": {
      "text/plain": [
       "PCA(n_components=23)"
      ]
     },
     "execution_count": 79,
     "metadata": {},
     "output_type": "execute_result"
    }
   ],
   "source": [
    "pca = PCA(n_components = 23)\n",
    "pca.fit(scaled_data)"
   ]
  },
  {
   "cell_type": "code",
   "execution_count": 80,
   "metadata": {},
   "outputs": [],
   "source": [
    "pca_scores = pca.transform(scaled_data)"
   ]
  },
  {
   "cell_type": "code",
   "execution_count": 81,
   "metadata": {},
   "outputs": [
    {
     "data": {
      "text/html": [
       "<div>\n",
       "<style scoped>\n",
       "    .dataframe tbody tr th:only-of-type {\n",
       "        vertical-align: middle;\n",
       "    }\n",
       "\n",
       "    .dataframe tbody tr th {\n",
       "        vertical-align: top;\n",
       "    }\n",
       "\n",
       "    .dataframe thead th {\n",
       "        text-align: right;\n",
       "    }\n",
       "</style>\n",
       "<table border=\"1\" class=\"dataframe\">\n",
       "  <thead>\n",
       "    <tr style=\"text-align: right;\">\n",
       "      <th></th>\n",
       "      <th>Start ms</th>\n",
       "      <th>End ms</th>\n",
       "      <th>Dur. (ms)</th>\n",
       "      <th>IMSI</th>\n",
       "      <th>MSISDN/Number</th>\n",
       "      <th>IMEI</th>\n",
       "      <th>Avg RTT DL (ms)</th>\n",
       "      <th>Avg RTT UL (ms)</th>\n",
       "      <th>Avg Bearer TP DL (kbps)</th>\n",
       "      <th>Avg Bearer TP UL (kbps)</th>\n",
       "      <th>...</th>\n",
       "      <th>13</th>\n",
       "      <th>14</th>\n",
       "      <th>15</th>\n",
       "      <th>16</th>\n",
       "      <th>17</th>\n",
       "      <th>18</th>\n",
       "      <th>19</th>\n",
       "      <th>20</th>\n",
       "      <th>21</th>\n",
       "      <th>22</th>\n",
       "    </tr>\n",
       "  </thead>\n",
       "  <tbody>\n",
       "    <tr>\n",
       "      <th>0</th>\n",
       "      <td>770.0</td>\n",
       "      <td>662.0</td>\n",
       "      <td>1823652.0</td>\n",
       "      <td>2.082014e+14</td>\n",
       "      <td>3.366496e+10</td>\n",
       "      <td>3.552121e+13</td>\n",
       "      <td>42.000000</td>\n",
       "      <td>5.000000</td>\n",
       "      <td>23.0</td>\n",
       "      <td>44.0</td>\n",
       "      <td>...</td>\n",
       "      <td>-7.158718</td>\n",
       "      <td>-1.270538</td>\n",
       "      <td>0.929845</td>\n",
       "      <td>4.099119</td>\n",
       "      <td>-0.935838</td>\n",
       "      <td>0.778916</td>\n",
       "      <td>-2.582287</td>\n",
       "      <td>0.509379</td>\n",
       "      <td>0.150102</td>\n",
       "      <td>-0.052859</td>\n",
       "    </tr>\n",
       "    <tr>\n",
       "      <th>1</th>\n",
       "      <td>235.0</td>\n",
       "      <td>606.0</td>\n",
       "      <td>1365104.0</td>\n",
       "      <td>2.082019e+14</td>\n",
       "      <td>3.368185e+10</td>\n",
       "      <td>3.579401e+13</td>\n",
       "      <td>65.000000</td>\n",
       "      <td>5.000000</td>\n",
       "      <td>16.0</td>\n",
       "      <td>26.0</td>\n",
       "      <td>...</td>\n",
       "      <td>-5.182390</td>\n",
       "      <td>-0.787305</td>\n",
       "      <td>-1.057992</td>\n",
       "      <td>2.886197</td>\n",
       "      <td>-1.287938</td>\n",
       "      <td>2.102908</td>\n",
       "      <td>-2.426801</td>\n",
       "      <td>1.446446</td>\n",
       "      <td>-0.545702</td>\n",
       "      <td>1.847457</td>\n",
       "    </tr>\n",
       "    <tr>\n",
       "      <th>2</th>\n",
       "      <td>1.0</td>\n",
       "      <td>652.0</td>\n",
       "      <td>1361762.0</td>\n",
       "      <td>2.082003e+14</td>\n",
       "      <td>3.376063e+10</td>\n",
       "      <td>3.528151e+13</td>\n",
       "      <td>109.795706</td>\n",
       "      <td>17.662883</td>\n",
       "      <td>6.0</td>\n",
       "      <td>9.0</td>\n",
       "      <td>...</td>\n",
       "      <td>-5.277166</td>\n",
       "      <td>-0.686343</td>\n",
       "      <td>-2.479395</td>\n",
       "      <td>2.847407</td>\n",
       "      <td>-1.366067</td>\n",
       "      <td>1.718312</td>\n",
       "      <td>-1.127238</td>\n",
       "      <td>0.915471</td>\n",
       "      <td>-0.457144</td>\n",
       "      <td>0.056328</td>\n",
       "    </tr>\n",
       "    <tr>\n",
       "      <th>3</th>\n",
       "      <td>486.0</td>\n",
       "      <td>171.0</td>\n",
       "      <td>1321509.0</td>\n",
       "      <td>2.082014e+14</td>\n",
       "      <td>3.375034e+10</td>\n",
       "      <td>3.535661e+13</td>\n",
       "      <td>109.795706</td>\n",
       "      <td>17.662883</td>\n",
       "      <td>44.0</td>\n",
       "      <td>44.0</td>\n",
       "      <td>...</td>\n",
       "      <td>-4.458242</td>\n",
       "      <td>-0.720596</td>\n",
       "      <td>-0.175555</td>\n",
       "      <td>2.739067</td>\n",
       "      <td>-1.325782</td>\n",
       "      <td>2.309096</td>\n",
       "      <td>-1.690187</td>\n",
       "      <td>0.370715</td>\n",
       "      <td>-0.269285</td>\n",
       "      <td>0.140056</td>\n",
       "    </tr>\n",
       "    <tr>\n",
       "      <th>4</th>\n",
       "      <td>565.0</td>\n",
       "      <td>954.0</td>\n",
       "      <td>1089009.0</td>\n",
       "      <td>2.082014e+14</td>\n",
       "      <td>3.369980e+10</td>\n",
       "      <td>3.540701e+13</td>\n",
       "      <td>109.795706</td>\n",
       "      <td>17.662883</td>\n",
       "      <td>6.0</td>\n",
       "      <td>9.0</td>\n",
       "      <td>...</td>\n",
       "      <td>-3.874125</td>\n",
       "      <td>-0.600639</td>\n",
       "      <td>-0.640816</td>\n",
       "      <td>2.202136</td>\n",
       "      <td>-0.391758</td>\n",
       "      <td>0.275765</td>\n",
       "      <td>-2.499894</td>\n",
       "      <td>2.346298</td>\n",
       "      <td>-1.057806</td>\n",
       "      <td>-0.221877</td>\n",
       "    </tr>\n",
       "  </tbody>\n",
       "</table>\n",
       "<p>5 rows × 85 columns</p>\n",
       "</div>"
      ],
      "text/plain": [
       "   Start ms  End ms  Dur. (ms)          IMSI  MSISDN/Number          IMEI  \\\n",
       "0     770.0   662.0  1823652.0  2.082014e+14   3.366496e+10  3.552121e+13   \n",
       "1     235.0   606.0  1365104.0  2.082019e+14   3.368185e+10  3.579401e+13   \n",
       "2       1.0   652.0  1361762.0  2.082003e+14   3.376063e+10  3.528151e+13   \n",
       "3     486.0   171.0  1321509.0  2.082014e+14   3.375034e+10  3.535661e+13   \n",
       "4     565.0   954.0  1089009.0  2.082014e+14   3.369980e+10  3.540701e+13   \n",
       "\n",
       "   Avg RTT DL (ms)  Avg RTT UL (ms)  Avg Bearer TP DL (kbps)  \\\n",
       "0        42.000000         5.000000                     23.0   \n",
       "1        65.000000         5.000000                     16.0   \n",
       "2       109.795706        17.662883                      6.0   \n",
       "3       109.795706        17.662883                     44.0   \n",
       "4       109.795706        17.662883                      6.0   \n",
       "\n",
       "   Avg Bearer TP UL (kbps)  ...        13        14        15        16  \\\n",
       "0                     44.0  ... -7.158718 -1.270538  0.929845  4.099119   \n",
       "1                     26.0  ... -5.182390 -0.787305 -1.057992  2.886197   \n",
       "2                      9.0  ... -5.277166 -0.686343 -2.479395  2.847407   \n",
       "3                     44.0  ... -4.458242 -0.720596 -0.175555  2.739067   \n",
       "4                      9.0  ... -3.874125 -0.600639 -0.640816  2.202136   \n",
       "\n",
       "         17        18        19        20        21        22  \n",
       "0 -0.935838  0.778916 -2.582287  0.509379  0.150102 -0.052859  \n",
       "1 -1.287938  2.102908 -2.426801  1.446446 -0.545702  1.847457  \n",
       "2 -1.366067  1.718312 -1.127238  0.915471 -0.457144  0.056328  \n",
       "3 -1.325782  2.309096 -1.690187  0.370715 -0.269285  0.140056  \n",
       "4 -0.391758  0.275765 -2.499894  2.346298 -1.057806 -0.221877  \n",
       "\n",
       "[5 rows x 85 columns]"
      ]
     },
     "execution_count": 81,
     "metadata": {},
     "output_type": "execute_result"
    }
   ],
   "source": [
    "new_data_df = pd.concat([seg.reset_index(drop = True), pd.DataFrame(pca_scores)], axis = 1)\n",
    "# c.columns.values[-2:] = ['component1', 'component2']\n",
    "new_data_df.head() #contains the original cols \n"
   ]
  },
  {
   "cell_type": "markdown",
   "metadata": {},
   "source": [
    "## 2. User Engagement analysis"
   ]
  },
  {
   "cell_type": "markdown",
   "metadata": {},
   "source": [
    "[Back to top](#Libraries)"
   ]
  },
  {
   "cell_type": "code",
   "execution_count": null,
   "metadata": {},
   "outputs": [],
   "source": []
  }
 ],
 "metadata": {
  "kernelspec": {
   "display_name": "Python 3",
   "language": "python",
   "name": "python3"
  },
  "language_info": {
   "codemirror_mode": {
    "name": "ipython",
    "version": 3
   },
   "file_extension": ".py",
   "mimetype": "text/x-python",
   "name": "python",
   "nbconvert_exporter": "python",
   "pygments_lexer": "ipython3",
   "version": "3.7.4"
  }
 },
 "nbformat": 4,
 "nbformat_minor": 4
}
